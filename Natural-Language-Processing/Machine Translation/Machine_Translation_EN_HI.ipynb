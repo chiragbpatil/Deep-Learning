{
  "nbformat": 4,
  "nbformat_minor": 0,
  "metadata": {
    "colab": {
      "provenance": [],
      "collapsed_sections": []
    },
    "kernelspec": {
      "name": "python3",
      "display_name": "Python 3"
    },
    "language_info": {
      "name": "python"
    },
    "accelerator": "GPU"
  },
  "cells": [
    {
      "cell_type": "markdown",
      "source": [
        "Ref:\n",
        "https://www.tensorflow.org/text/tutorials/nmt_with_attention"
      ],
      "metadata": {
        "id": "NFR80easCzwk"
      }
    },
    {
      "cell_type": "code",
      "source": [
        "!pip install contractions"
      ],
      "metadata": {
        "colab": {
          "base_uri": "https://localhost:8080/"
        },
        "id": "V7quv1e9k7iG",
        "outputId": "d75bd078-5f25-4aca-fab6-5df7adf6d43e"
      },
      "execution_count": null,
      "outputs": [
        {
          "output_type": "stream",
          "name": "stdout",
          "text": [
            "Looking in indexes: https://pypi.org/simple, https://us-python.pkg.dev/colab-wheels/public/simple/\n",
            "Requirement already satisfied: contractions in /usr/local/lib/python3.7/dist-packages (0.1.72)\n",
            "Requirement already satisfied: textsearch>=0.0.21 in /usr/local/lib/python3.7/dist-packages (from contractions) (0.0.24)\n",
            "Requirement already satisfied: pyahocorasick in /usr/local/lib/python3.7/dist-packages (from textsearch>=0.0.21->contractions) (1.4.4)\n",
            "Requirement already satisfied: anyascii in /usr/local/lib/python3.7/dist-packages (from textsearch>=0.0.21->contractions) (0.3.1)\n"
          ]
        }
      ]
    },
    {
      "cell_type": "code",
      "execution_count": null,
      "metadata": {
        "id": "-HLAiE799ai1"
      },
      "outputs": [],
      "source": [
        "import pandas as pd\n",
        "import numpy as np\n",
        "import re\n",
        "import contractions\n",
        "import tensorflow as tf\n",
        "from tensorflow.keras.preprocessing.text import Tokenizer\n",
        "from tensorflow.keras.preprocessing.sequence import pad_sequences\n",
        "from sklearn.model_selection import train_test_split"
      ]
    },
    {
      "cell_type": "code",
      "source": [
        "train_data = pd.read_csv(\"/content/drive/MyDrive/Portfolio/Machine_Translation/Data/train_data_max_len_30.csv\",encoding=\"utf-8\")\n",
        "test_data = pd.read_csv(\"/content/drive/MyDrive/Portfolio/Machine_Translation/Data/test_data_max_len_30.csv\",encoding=\"utf-8\")\n",
        "val_data = pd.read_csv(\"/content/drive/MyDrive/Portfolio/Machine_Translation/Data/val_data_max_len_30.csv\",encoding=\"utf-8\")\n",
        "# train_data ,test_data = train_test_split(train_data,test_size = 0.7, random_state= 42)\n",
        "# test_data ,val_data = train_test_split(test_data,test_size = 0.5, random_state= 42)"
      ],
      "metadata": {
        "id": "sRPbEwNILBUy"
      },
      "execution_count": null,
      "outputs": []
    },
    {
      "cell_type": "code",
      "source": [
        "train_data.shape, test_data.shape, val_data.shape"
      ],
      "metadata": {
        "colab": {
          "base_uri": "https://localhost:8080/"
        },
        "id": "BYlWrve8OoVl",
        "outputId": "2b23b09a-1b5b-4a88-b516-5bf60105950d"
      },
      "execution_count": null,
      "outputs": [
        {
          "output_type": "execute_result",
          "data": {
            "text/plain": [
              "((383985, 2), (127995, 2), (127995, 2))"
            ]
          },
          "metadata": {},
          "execution_count": 4
        }
      ]
    },
    {
      "cell_type": "code",
      "source": [
        "# let check vocab size\n",
        "en_words = []\n",
        "hi_words = []\n",
        "_ = train_data['en_sentences'].apply(lambda s : en_words.extend(s.split()))\n",
        "_ = train_data['hi_sentences'].apply(lambda s : hi_words.extend(s.split()))\n",
        "\n",
        "print(\"number of unique words in english : \",len(set(en_words)))\n",
        "print(\"number of unique words in hindi : \",len(set(hi_words)))"
      ],
      "metadata": {
        "colab": {
          "base_uri": "https://localhost:8080/"
        },
        "id": "GRIHGErYO10d",
        "outputId": "1bdface6-6bc2-46f9-b148-2eb3b381a6e4"
      },
      "execution_count": null,
      "outputs": [
        {
          "output_type": "stream",
          "name": "stdout",
          "text": [
            "number of unique words in english :  85415\n",
            "number of unique words in hindi :  124785\n"
          ]
        }
      ]
    },
    {
      "cell_type": "code",
      "source": [
        "# data_folder_path = \n",
        "BATCH_SIZE = 64\n",
        "MAX_VOCAB_SIZE = 30000\n",
        "MAX_SENT_LEN = 30"
      ],
      "metadata": {
        "id": "XUxeSWXHsWO9"
      },
      "execution_count": null,
      "outputs": []
    },
    {
      "cell_type": "code",
      "source": [
        "special_char_re = re.compile(\"[-@!#$%^&*<>\\(\\)\\[\\]{}?/\\|;\\+=}{~0-9]\")\n",
        "multiple_space_re = re.compile(\" +\")\n",
        "\n",
        "# https://www.geeksforgeeks.org/nlp-expand-contractions-in-text-processing/\n",
        "def expand_contraction(sent):\n",
        "    expanded_words = []   \n",
        "    for word in sent.split():\n",
        "        # using contractions.fix to expand the shortened words\n",
        "        expanded_words.append(contractions.fix(word))  \n",
        "    expanded_text = ' '.join(expanded_words)\n",
        "    return expanded_text\n",
        "    \n",
        "    \n",
        "\n",
        "def pre_process_text(sent):\n",
        "    # sent = sent.lower()\n",
        "    lowercase = tf.strings.lower(sent)\n",
        "    if re.search(\"[a-z]\",sent):\n",
        "        sent = expand_contraction(sent)\n",
        "    sent = sent.replace('...','')\\\n",
        "                  .replace(' _ ','')\\\n",
        "                  .replace('_ ','')\\\n",
        "                  .replace('_','')\\\n",
        "                  .replace(',','')\\\n",
        "                  .replace(':','')\\\n",
        "                  .replace('\"',\"\")\\\n",
        "                  .replace('”',\"\")\\\n",
        "                  .replace('“',\"\")\\\n",
        "                  .replace(';','')\\\n",
        "                  .replace('/','')\\\n",
        "                  .replace('\\\\','')\\\n",
        "                  .replace(\"ः\",\"\")\\\n",
        "                  .replace(\"।\",\" । \")\\\n",
        "                  .replace(\".\",\" . \")\\\n",
        "                  .replace(\"`\",\"\")\\\n",
        "                  .replace(\"?\",\" ? \")\\\n",
        "                  .replace(\"'\",\" \")\\\n",
        "                  .replace(\"¨\",\" \")\\\n",
        "                  \n",
        "    sent = multiple_space_re.sub(\" \",sent)\n",
        "\n",
        "    return \"[START] \" + sent + \" [END]\"               "
      ],
      "metadata": {
        "id": "ahEsjktl9oSd"
      },
      "execution_count": null,
      "outputs": []
    },
    {
      "cell_type": "code",
      "source": [
        "en_example = \"When without a stapler, a staple and a ruler will work\"\n",
        "hi_example = \"जब व्यवसायी न हो तो हाट और शासक भी वह काम करते हैं\"\n",
        "print(\"en : \",pre_process_text(en_example))\n",
        "print(\"hi : \",pre_process_text(hi_example))"
      ],
      "metadata": {
        "colab": {
          "base_uri": "https://localhost:8080/"
        },
        "id": "8yMURUAoAfeq",
        "outputId": "d1c01e7c-6454-4553-c103-d6597aa53972"
      },
      "execution_count": null,
      "outputs": [
        {
          "output_type": "stream",
          "name": "stdout",
          "text": [
            "en :  [START] When without a stapler a staple and a ruler will work [END]\n",
            "hi :  [START] जब व्यवसायी न हो तो हाट और शासक भी वह काम करते हैं [END]\n"
          ]
        }
      ]
    },
    {
      "cell_type": "code",
      "source": [
        "train_data['en_sentences'] = train_data['en_sentences'].apply(pre_process_text)\n",
        "test_data['en_sentences'] = test_data['en_sentences'].apply(pre_process_text)\n",
        "val_data['en_sentences'] = val_data['en_sentences'].apply(pre_process_text)"
      ],
      "metadata": {
        "id": "SymAakbCkB7g"
      },
      "execution_count": null,
      "outputs": []
    },
    {
      "cell_type": "code",
      "source": [
        "train_data['hi_sentences'] = train_data['hi_sentences'].apply(pre_process_text)\n",
        "test_data['hi_sentences'] = test_data['hi_sentences'].apply(pre_process_text)\n",
        "val_data['hi_sentences'] = val_data['hi_sentences'].apply(pre_process_text)"
      ],
      "metadata": {
        "id": "qDjcFi3NljfL"
      },
      "execution_count": null,
      "outputs": []
    },
    {
      "cell_type": "markdown",
      "source": [
        "# Tokenizer"
      ],
      "metadata": {
        "id": "R6tXwNIPvBnq"
      }
    },
    {
      "cell_type": "markdown",
      "source": [
        "### English tokenizer"
      ],
      "metadata": {
        "id": "ZMCzM8yDvEfW"
      }
    },
    {
      "cell_type": "code",
      "source": [
        "en_tokenizer = Tokenizer( num_words=MAX_VOCAB_SIZE,\n",
        "                         oov_token='[UNK]',\n",
        "                         filters='!\"#$%&()*+,-/:;<=>?@^_`{|}~\\t\\n'\n",
        "                         )\n",
        "\n",
        "en_tokenizer.fit_on_texts(train_data['en_sentences'].values)"
      ],
      "metadata": {
        "id": "OyfryxfInaou"
      },
      "execution_count": null,
      "outputs": []
    },
    {
      "cell_type": "code",
      "source": [
        "print(list(en_tokenizer.word_index.items())[:10])"
      ],
      "metadata": {
        "colab": {
          "base_uri": "https://localhost:8080/"
        },
        "id": "rrbke00RqUqS",
        "outputId": "542c592f-cae2-4be6-9ca6-c6a0f7c2b67e"
      },
      "execution_count": null,
      "outputs": [
        {
          "output_type": "stream",
          "name": "stdout",
          "text": [
            "[('[UNK]', 1), ('[start]', 2), ('[end]', 3), ('.', 4), ('the', 5), ('of', 6), ('and', 7), ('to', 8), ('a', 9), ('in', 10)]\n"
          ]
        }
      ]
    },
    {
      "cell_type": "code",
      "source": [
        "en_sent = train_data.iloc[0,0]\n",
        "print(en_sent)\n",
        "print(en_tokenizer.texts_to_sequences([en_sent]))"
      ],
      "metadata": {
        "colab": {
          "base_uri": "https://localhost:8080/"
        },
        "id": "cxXjAIrCppMO",
        "outputId": "60c29213-6fd1-4ae6-abec-e85133a0a10d"
      },
      "execution_count": null,
      "outputs": [
        {
          "output_type": "stream",
          "name": "stdout",
          "text": [
            "[START] when he ran away to the laden ship [END]\n",
            "[[2, 55, 20, 2665, 221, 8, 5, 6572, 2060, 3]]\n"
          ]
        }
      ]
    },
    {
      "cell_type": "code",
      "source": [
        "en_train_sequences = en_tokenizer.texts_to_sequences(train_data['en_sentences'].values)\n",
        "en_test_sequences = en_tokenizer.texts_to_sequences(test_data['en_sentences'].values)\n",
        "en_val_sequences = en_tokenizer.texts_to_sequences(val_data['en_sentences'].values)"
      ],
      "metadata": {
        "id": "ZXIzIDsWpODH"
      },
      "execution_count": null,
      "outputs": []
    },
    {
      "cell_type": "code",
      "source": [
        "en_train_padded_sequences = pad_sequences(en_train_sequences,maxlen=MAX_SENT_LEN, padding='post',truncating=\"post\")\n",
        "en_test_padded_sequences = pad_sequences(en_test_sequences,maxlen=MAX_SENT_LEN, padding='post',truncating=\"post\")\n",
        "en_val_padded_sequences = pad_sequences(en_val_sequences,maxlen=MAX_SENT_LEN, padding='post',truncating=\"post\")"
      ],
      "metadata": {
        "id": "GKoWGa-ewifJ"
      },
      "execution_count": null,
      "outputs": []
    },
    {
      "cell_type": "markdown",
      "source": [
        "### Hindi tokenizer"
      ],
      "metadata": {
        "id": "FoP2jYlUvSVq"
      }
    },
    {
      "cell_type": "code",
      "source": [
        "hi_tokenizer = Tokenizer( num_words=MAX_VOCAB_SIZE,\n",
        "                         oov_token='[UNK]',\n",
        "                         filters='!\"#$%&()*+,-/:;<=>?@^_`{|}~\\t\\n'\n",
        "                         )\n",
        "\n",
        "hi_tokenizer.fit_on_texts(train_data['hi_sentences'].values)"
      ],
      "metadata": {
        "id": "l1rLSlvSvWMa"
      },
      "execution_count": null,
      "outputs": []
    },
    {
      "cell_type": "code",
      "source": [
        "hi_sent = train_data.loc[0,'hi_sentences']\n",
        "print(hi_sent)\n",
        "print(hi_tokenizer.texts_to_sequences([hi_sent]))"
      ],
      "metadata": {
        "colab": {
          "base_uri": "https://localhost:8080/"
        },
        "id": "9Q0gcSTIvWEL",
        "outputId": "d8271a90-394d-45bb-b65a-c24bcd331c0d"
      },
      "execution_count": null,
      "outputs": [
        {
          "output_type": "stream",
          "name": "stdout",
          "text": [
            "[START] याद करो जब वह भरी नौका की ओर भाग निकला [END]\n",
            "[[2, 395, 370, 66, 34, 1991, 4449, 8, 124, 187, 2915, 3]]\n"
          ]
        }
      ]
    },
    {
      "cell_type": "code",
      "source": [
        "hi_train_sequences = hi_tokenizer.texts_to_sequences(train_data['hi_sentences'].values)\n",
        "hi_test_sequences = hi_tokenizer.texts_to_sequences(test_data['hi_sentences'].values)\n",
        "hi_val_sequences = hi_tokenizer.texts_to_sequences(val_data['hi_sentences'].values)"
      ],
      "metadata": {
        "id": "uUPgjrpRvV-7"
      },
      "execution_count": null,
      "outputs": []
    },
    {
      "cell_type": "code",
      "source": [
        "hi_train_padded_sequences = pad_sequences(hi_train_sequences,maxlen=MAX_SENT_LEN, padding='post',truncating=\"post\")\n",
        "hi_test_padded_sequences = pad_sequences(hi_test_sequences,maxlen=MAX_SENT_LEN, padding='post',truncating=\"post\")\n",
        "hi_val_padded_sequences = pad_sequences(hi_val_sequences,maxlen=MAX_SENT_LEN, padding='post',truncating=\"post\")"
      ],
      "metadata": {
        "id": "poIAFZeJxDsG"
      },
      "execution_count": null,
      "outputs": []
    },
    {
      "cell_type": "code",
      "source": [
        "print(\"hi_train_padded_sequences.shape : \",hi_train_padded_sequences.shape)\n",
        "print(\"en_train_padded_sequences.shape : \",en_train_padded_sequences.shape)"
      ],
      "metadata": {
        "colab": {
          "base_uri": "https://localhost:8080/"
        },
        "id": "7c7E1RYsRkCS",
        "outputId": "f5647380-3e8f-4480-b577-0809a55a8cee"
      },
      "execution_count": null,
      "outputs": [
        {
          "output_type": "stream",
          "name": "stdout",
          "text": [
            "hi_train_padded_sequences.shape :  (383985, 30)\n",
            "en_train_padded_sequences.shape :  (383985, 30)\n"
          ]
        }
      ]
    },
    {
      "cell_type": "code",
      "source": [
        "# en_text_vectorizer = tf.keras.layers.TextVectorization(\n",
        "#     standardize=None,\n",
        "#     max_tokens=MAX_VOCAB_SIZE\n",
        "#     )\n",
        "# en_text_vectorizer.adapt(train_data['en_sentences'].values)\n",
        "\n",
        "# # Here are the first 10 words from the vocabulary:\n",
        "# en_text_vectorizer.get_vocabulary()[:10]"
      ],
      "metadata": {
        "id": "4hl6-YNdjvSb"
      },
      "execution_count": null,
      "outputs": []
    },
    {
      "cell_type": "code",
      "source": [
        "# hi_text_vectorizer = tf.keras.layers.TextVectorization(\n",
        "#     standardize=None,\n",
        "#     max_tokens=MAX_VOCAB_SIZE\n",
        "#     )\n",
        "\n",
        "# hi_text_vectorizer.adapt(train_data['hi_sentences'])\n",
        "\n",
        "# # Here are the first 10 words from the vocabulary:\n",
        "# hi_text_vectorizer.get_vocabulary()[:10]"
      ],
      "metadata": {
        "id": "c2TTKHNWzYEF"
      },
      "execution_count": null,
      "outputs": []
    },
    {
      "cell_type": "code",
      "source": [
        "# print(en_text_vectorizer.vocabulary_size())\n",
        "# print(hi_text_vectorizer.vocabulary_size())"
      ],
      "metadata": {
        "id": "lLmv81aBhh16"
      },
      "execution_count": null,
      "outputs": []
    },
    {
      "cell_type": "code",
      "source": [
        "# en_text_vectorizer(train_data.loc[0.'en_sentences'])\n",
        "# hi_text_vectorizer(train_data.loc[0.'en_sentences'])\n"
      ],
      "metadata": {
        "id": "xB1NJHUcjOBo"
      },
      "execution_count": null,
      "outputs": []
    },
    {
      "cell_type": "code",
      "source": [],
      "metadata": {
        "id": "5X9bNqO-lLfg"
      },
      "execution_count": null,
      "outputs": []
    },
    {
      "cell_type": "markdown",
      "source": [
        "# Modeling"
      ],
      "metadata": {
        "id": "BtVV0vTdk5K9"
      }
    },
    {
      "cell_type": "markdown",
      "source": [
        "## Encoder Decoder"
      ],
      "metadata": {
        "id": "JkwN7Bqkk7Zc"
      }
    },
    {
      "cell_type": "code",
      "source": [
        "# https://blog.paperspace.com/nlp-machine-translation-with-keras/\n",
        "# https://machinelearningmastery.com/define-encoder-decoder-sequence-sequence-model-neural-machine-translation-keras/\n",
        "# https://medium.com/analytics-vidhya/machine-translation-encoder-decoder-model-7e4867377161\n",
        "\n",
        "class Encoder(tf.keras.Model):\n",
        "\n",
        "    def __init__(self, inp_vocab_size,inp_embedding_size,lstm_size):\n",
        "        super(Encoder, self).__init__()\n",
        "        self.lstm_size = lstm_size\n",
        "        self.embedding = tf.keras.layers.Embedding(inp_vocab_size, inp_embedding_size,name=\"encoder_embeddings\",mask_zero=True)\n",
        "        self.lstm = tf.keras.layers.LSTM(lstm_size, return_sequences=True, return_state=True,name=\"encoder_lstm\")\n",
        "\n",
        "    def call(self, input):\n",
        "        input_sequence = input[0]\n",
        "        states = input[1]\n",
        "        embedings = self.embedding(input_sequence)\n",
        "        \n",
        "        output, hidden_state, cell_state = self.lstm(embedings, initial_state=states)\n",
        "\n",
        "        return output, hidden_state, cell_state\n",
        "    \n",
        "    def initialize_states(self,batch_size):\n",
        "    \n",
        "        return (tf.zeros([batch_size, self.lstm_size]),\n",
        "                tf.zeros([batch_size, self.lstm_size]))\n",
        "        \n",
        "class Decoder(tf.keras.Model):\n",
        "    def __init__(self,tar_vocab_size,tar_embedding_size,lstm_size,target_tokenizer):\n",
        "        super(Decoder,self).__init__()\n",
        "        self.lstm_size = lstm_size\n",
        "        self.target_tokenizer = target_tokenizer\n",
        "        self.decoder_embedding = tf.keras.layers.Embedding(tar_vocab_size, tar_embedding_size,name='decoder_embeddings',mask_zero=True)\n",
        "        self.decoder_lstm = tf.keras.layers.LSTM(lstm_size, return_sequences=True, return_state=True,name=\"decoder_lstm\")\n",
        "        self.decoder_dense = tf.keras.layers.Dense(tar_vocab_size,activation='softmax',name=\"decoder_dense\")\n",
        "        \n",
        "    def call(self,input,training=False):\n",
        "        if training:\n",
        "            target_sequence = input[0]\n",
        "            encoder_states = input[1]\n",
        "\n",
        "            decoder_embeddings = self.decoder_embedding(target_sequence)\n",
        "            decoder_output, hidden_state, cell_state = self.decoder_lstm(decoder_embeddings,initial_state=encoder_states)\n",
        "            output = self.decoder_dense(decoder_output)\n",
        "\n",
        "            return output\n",
        "\n",
        "        else:\n",
        "            states = input\n",
        "            batch_size = 1 if states[0].shape[0] is None else states[0].shape[0]\n",
        "            sentence_end = False\n",
        "            translation_op = np.zeros((batch_size,1))\n",
        "\n",
        "            target_token = self.target_tokenizer.word_index['[start]']\n",
        "            end_token_index = self.target_tokenizer.word_index['[end]']\n",
        "            target_seq = np.zeros(shape=(batch_size,1))\n",
        "            target_seq[:,0]=target_token\n",
        "            while not sentence_end:\n",
        "\n",
        "                embeddings = self.decoder_embedding(target_seq)\n",
        "\n",
        "                decoder_token, hidden_state, cell_state =self.decoder_lstm(embeddings,initial_state=states)\n",
        "\n",
        "                output = self.decoder_dense(decoder_token)\n",
        "\n",
        "                pred_token_index = tf.argmax(output,axis=-1).numpy()\n",
        "                pred_token_index = pred_token_index.reshape(batch_size,1)\n",
        "                \n",
        "                # if '[end]' token predicted append only 0 after that\n",
        "                mask = translation_op[:,-1] == end_token_index\n",
        "                pred_token_index[mask,:] = 0\n",
        "                \n",
        "                translation_op = np.append(translation_op,pred_token_index,1)\n",
        "       \n",
        "                if translation_op.shape[-1] > 30:\n",
        "                    sentence_end = True\n",
        "                target_seq = pred_token_index\n",
        "                states = [hidden_state,cell_state]\n",
        "                \n",
        "            return translation_op\n",
        "    \n",
        "    def single_predict(self,input):\n",
        "        states = input\n",
        "        sentence_end = False\n",
        "        translation_op = \"\"\n",
        "        target_token = self.target_tokenizer.word_index['[start]']\n",
        "        target_seq = np.zeros(shape=(1,1))\n",
        "        target_seq[:,0]=target_token\n",
        "        while not sentence_end:\n",
        "\n",
        "            embeddings = self.decoder_embedding(target_seq)\n",
        "\n",
        "            decoder_token, hidden_state, cell_state =self.decoder_lstm(embeddings,initial_state=states)\n",
        "\n",
        "            output = self.decoder_dense(decoder_token)\n",
        "\n",
        "            pred_token_index = tf.argmax(output,axis=-1).numpy()\n",
        "            pred_word = self.target_tokenizer.sequences_to_texts(pred_token_index)\n",
        "            translation_op = translation_op + \" \" +pred_word [0]\n",
        "\n",
        "            if pred_word [0] == ['end'] or len(translation_op.split()) > 30:\n",
        "                sentence_end = True\n",
        "            \n",
        "            target_seq[:,0]=pred_token_index\n",
        "            states = [hidden_state,cell_state]\n",
        "            \n",
        "        return translation_op\n"
      ],
      "metadata": {
        "id": "r82L50QfjtgB"
      },
      "execution_count": null,
      "outputs": []
    },
    {
      "cell_type": "code",
      "source": [
        "inp_vocab_size = 30000\n",
        "inp_embedding_size = 512\n",
        "lstm_size = 256\n",
        "encoder = Encoder(inp_vocab_size,inp_embedding_size,lstm_size)\n",
        "batch_size = 8\n",
        "encoder_input = [en_train_padded_sequences[:batch_size,:],encoder.initialize_states(batch_size=batch_size)]\n",
        "output, hidden_state, cell_state = encoder(encoder_input)"
      ],
      "metadata": {
        "id": "SKbIl2uBFPby"
      },
      "execution_count": null,
      "outputs": []
    },
    {
      "cell_type": "code",
      "source": [
        "en_train_padded_sequences[:batch_size,:].shape"
      ],
      "metadata": {
        "colab": {
          "base_uri": "https://localhost:8080/"
        },
        "id": "DLAyyVzelswq",
        "outputId": "9949c3bf-400a-461e-dbd2-b5854e07ec55"
      },
      "execution_count": null,
      "outputs": [
        {
          "output_type": "execute_result",
          "data": {
            "text/plain": [
              "(8, 30)"
            ]
          },
          "metadata": {},
          "execution_count": 27
        }
      ]
    },
    {
      "cell_type": "code",
      "source": [
        "print(output.shape)\n",
        "print(hidden_state.shape)\n",
        "print(cell_state.shape)"
      ],
      "metadata": {
        "colab": {
          "base_uri": "https://localhost:8080/"
        },
        "id": "f_57hhCiSTuH",
        "outputId": "aed84149-448f-4c7e-8257-3035dc4c471c"
      },
      "execution_count": null,
      "outputs": [
        {
          "output_type": "stream",
          "name": "stdout",
          "text": [
            "(8, 30, 256)\n",
            "(8, 256)\n",
            "(8, 256)\n"
          ]
        }
      ]
    },
    {
      "cell_type": "code",
      "source": [
        "tar_embedding_size = 512\n",
        "lstm_size = 256\n",
        "target_tokenizer = hi_tokenizer\n",
        "decoder = Decoder(MAX_VOCAB_SIZE,\n",
        "                  tar_embedding_size,\n",
        "                  lstm_size,\n",
        "                  target_tokenizer)\n",
        "\n",
        "decoder_op_training_true = decoder([hi_test_padded_sequences[:batch_size,:],[hidden_state, cell_state]],training=True)\n",
        "decoder_op_training_false = decoder([hidden_state, cell_state],training=False)"
      ],
      "metadata": {
        "id": "ZD5FqjyeTfzC"
      },
      "execution_count": null,
      "outputs": []
    },
    {
      "cell_type": "code",
      "source": [
        "decoder_op_training_true.shape,decoder_op_training_false.shape"
      ],
      "metadata": {
        "colab": {
          "base_uri": "https://localhost:8080/"
        },
        "id": "CGeQhoCRSEF6",
        "outputId": "76c4700c-160f-4919-9c1a-a6fcaf766d88"
      },
      "execution_count": null,
      "outputs": [
        {
          "output_type": "execute_result",
          "data": {
            "text/plain": [
              "(TensorShape([8, 30, 30000]), (8, 31))"
            ]
          },
          "metadata": {},
          "execution_count": 30
        }
      ]
    },
    {
      "cell_type": "code",
      "source": [
        "class NMT(tf.keras.Model):\n",
        "    def __init__(self,\n",
        "                 lstm_size,\n",
        "                 inp_vocab_size,\n",
        "                 inp_embedding_size,\n",
        "                 tar_vocab_size,\n",
        "                 tar_embedding_size,\n",
        "                 target_tokenizer):\n",
        "        super(NMT,self).__init__()\n",
        "        self.encoder = Encoder(inp_vocab_size,inp_embedding_size,lstm_size)\n",
        "        self.decoder = Decoder(tar_vocab_size,\n",
        "                               tar_embedding_size,\n",
        "                               lstm_size,\n",
        "                               target_tokenizer\n",
        "                               )\n",
        "        self.target_tokenizer = target_tokenizer\n",
        "\n",
        "    def call(self,input,training=False):\n",
        "        \n",
        "        if training:\n",
        "            input_sequence = input[0]\n",
        "            target_sequence = input[1]\n",
        "\n",
        "            batch_size = input_sequence.shape[0]\n",
        "            encoder_input = [input_sequence,encoder.initialize_states(batch_size=batch_size)]\n",
        "            en_output, en_hidden_state, en_cell_state = self.encoder(encoder_input)\n",
        "            \n",
        "            decoder_input = [target_sequence,[en_hidden_state, en_cell_state]]\n",
        "            decoder_op = self.decoder(decoder_input,training=training)\n",
        "\n",
        "            return decoder_op\n",
        "        \n",
        "        else:\n",
        "            batch_size = input.shape[0]\n",
        "            encoder_input = [input,encoder.initialize_states(batch_size=batch_size)]\n",
        "            en_output, en_hidden_state, en_cell_state = self.encoder(encoder_input)\n",
        "\n",
        "            decoder_op = self.decoder([en_hidden_state, en_cell_state])\n",
        "            return decoder_op\n",
        "\n",
        "    def single_predict(self,input):\n",
        "        batch_size = input.shape[0] \n",
        "        encoder_input = [input,encoder.initialize_states(batch_size=batch_size)]\n",
        "        en_output, en_hidden_state, en_cell_state = self.encoder(encoder_input)\n",
        "\n",
        "        decoder_op = self.decoder.single_predict([en_hidden_state, en_cell_state])\n",
        "\n",
        "        return decoder_op\n",
        "       "
      ],
      "metadata": {
        "id": "7NZWjCuFdTTq"
      },
      "execution_count": null,
      "outputs": []
    },
    {
      "cell_type": "code",
      "source": [
        "tar_vocab_size = MAX_VOCAB_SIZE\n",
        "nmt = NMT(lstm_size,\n",
        "          inp_vocab_size,\n",
        "          inp_embedding_size,\n",
        "          tar_vocab_size,\n",
        "          tar_embedding_size,\n",
        "          target_tokenizer\n",
        "          )"
      ],
      "metadata": {
        "id": "WeQi9m0KjsIq"
      },
      "execution_count": null,
      "outputs": []
    },
    {
      "cell_type": "code",
      "source": [
        "batch_size = 2\n",
        "# op = nmt([en_train_padded_sequences[:batch_size,:],hi_train_padded_sequences[:batch_size,:]],training=True)\n",
        "op = nmt(en_train_padded_sequences[:batch_size,:],training=False)"
      ],
      "metadata": {
        "id": "leHXvJZ2j3XS"
      },
      "execution_count": null,
      "outputs": []
    },
    {
      "cell_type": "code",
      "source": [
        "op.shape"
      ],
      "metadata": {
        "colab": {
          "base_uri": "https://localhost:8080/"
        },
        "id": "5DXMYXJdlOgy",
        "outputId": "3cc15c7a-22b1-4ce2-dcf0-bd5b32dd1caa"
      },
      "execution_count": null,
      "outputs": [
        {
          "output_type": "execute_result",
          "data": {
            "text/plain": [
              "(2, 31)"
            ]
          },
          "metadata": {},
          "execution_count": 34
        }
      ]
    },
    {
      "cell_type": "markdown",
      "source": [
        "## Training"
      ],
      "metadata": {
        "id": "T0AQZDaPb7cT"
      }
    },
    {
      "cell_type": "code",
      "source": [
        "train_tf_dataset = tf.data.Dataset.from_tensor_slices((en_train_padded_sequences, hi_train_padded_sequences))\n",
        "test_tf_dataset = tf.data.Dataset.from_tensor_slices((en_test_padded_sequences, hi_test_padded_sequences))\n",
        "val_tf_dataset = tf.data.Dataset.from_tensor_slices((en_val_padded_sequences, hi_val_padded_sequences))"
      ],
      "metadata": {
        "id": "wG5LjDcXmTPO"
      },
      "execution_count": null,
      "outputs": []
    },
    {
      "cell_type": "code",
      "source": [
        "en_train_padded_sequences.shape, en_test_padded_sequences.shape, en_val_padded_sequences.shape"
      ],
      "metadata": {
        "colab": {
          "base_uri": "https://localhost:8080/"
        },
        "id": "rME-p3sjbDO0",
        "outputId": "c97cced3-a34f-4e3c-b532-79fb901a8aa3"
      },
      "execution_count": null,
      "outputs": [
        {
          "output_type": "execute_result",
          "data": {
            "text/plain": [
              "((383985, 30), (127995, 30), (127995, 30))"
            ]
          },
          "metadata": {},
          "execution_count": 36
        }
      ]
    },
    {
      "cell_type": "code",
      "source": [
        "train_tf_dataset = train_tf_dataset.batch(128)\n",
        "test_tf_dataset = test_tf_dataset.batch(128)\n",
        "\n"
      ],
      "metadata": {
        "id": "I8tHMyq8fXQX"
      },
      "execution_count": null,
      "outputs": []
    },
    {
      "cell_type": "code",
      "source": [
        "# loss_fn = tf.keras.losses.SparseCategoricalCrossentropy(from_logits=False)\n",
        "# optimizer = tf.keras.optimizers.SGD(learning_rate=1e-3)"
      ],
      "metadata": {
        "id": "wdcSkdWIjvDL"
      },
      "execution_count": null,
      "outputs": []
    },
    {
      "cell_type": "code",
      "source": [
        "# epochs = 2\n",
        "# train_loss_at_each_epoch = []\n",
        "# test_loss_at_each_epoch = []\n",
        "\n",
        "# for epoch in range(epochs):\n",
        "#     train_tf_dataset = train_tf_dataset.shuffle(buffer_size = en_train_padded_sequences.shape[0])\n",
        "#     train_tf_dataset_ = train_tf_dataset.as_numpy_iterator()\n",
        "\n",
        "#     print(\"\\nStart of epoch %d\" % (epoch,))\n",
        "\n",
        "#     # Iterate over the batches of the dataset.\n",
        "#     for step, (x_batch_train, y_batch_train) in enumerate(train_tf_dataset_):\n",
        "\n",
        "#         # Open a GradientTape to record the operations run\n",
        "#         # during the forward pass, which enables auto-differentiation.\n",
        "#         with tf.GradientTape() as tape:\n",
        "\n",
        "#             # Run the forward pass of the layer.\n",
        "#             # The operations that the layer applies\n",
        "#             # to its inputs are going to be recorded\n",
        "#             # on the GradientTape.\n",
        "#             logits = nmt([x_batch_train,y_batch_train], training=True)  # Logits for this minibatch\n",
        "\n",
        "#             # Compute the loss value for this minibatch.\n",
        "#             loss_value = loss_fn(y_batch_train, logits)\n",
        "\n",
        "#         # Use the gradient tape to automatically retrieve\n",
        "#         # the gradients of the trainable variables with respect to the loss.\n",
        "#         grads = tape.gradient(loss_value, nmt.trainable_weights)\n",
        "\n",
        "#         # Run one step of gradient descent by updating\n",
        "#         # the value of the variables to minimize the loss.\n",
        "#         optimizer.apply_gradients(zip(grads, nmt.trainable_weights))\n",
        "#         break\n",
        "\n",
        "#     # Log loss at each epoch\n",
        "#     train_tf_dataset_ = train_tf_dataset.as_numpy_iterator()\n",
        "#     test_tf_dataset_ = test_tf_dataset.as_numpy_iterator()\n",
        "\n",
        "#     train_loss = []\n",
        "#     test_loss = []\n",
        "#     for (x_batch_train, y_batch_train) in train_tf_dataset_:\n",
        "#         logits = nmt([x_batch_train,y_batch_train], training=True)  # Logits for this minibatch\n",
        "#         # Compute the loss value for this minibatch.\n",
        "#         loss_value = loss_fn(y_batch_train, logits)\n",
        "#         train_loss.append(loss_value)\n",
        "    \n",
        "#     for (x_batch_test, y_batch_test) in test_tf_dataset_:\n",
        "#         logits = nmt([x_batch_test,y_batch_test], training=True)  # Logits for this minibatch\n",
        "#         # Compute the loss value for this minibatch.\n",
        "#         loss_value = loss_fn(y_batch_test, logits)\n",
        "#         test_loss.append(loss_value)\n",
        "    \n",
        "#     mean_train_loss = np.mean(train_loss)\n",
        "#     mean_test_loss = np.mean(test_loss)\n",
        "#     train_loss_at_each_epoch.append(mean_train_loss)\n",
        "#     test_loss_at_each_epoch.append(mean_test_loss)\n",
        "\n",
        "#     print(\"Train loss at epoch {} : {}\".format(epoch+1,mean_train_loss))\n",
        "#     print(\"Test loss at epoch {} : {}\".format(epoch+1,mean_test_loss))\n"
      ],
      "metadata": {
        "id": "gVArPpxjfNeq"
      },
      "execution_count": null,
      "outputs": []
    },
    {
      "cell_type": "code",
      "source": [
        "loss_fn = keras.losses.SparseCategoricalCrossentropy(from_logits=False)\n",
        "\n",
        "# Prepare the metrics.\n",
        "train_acc_metric = keras.metrics.SparseCategoricalAccuracy()\n",
        "val_acc_metric = keras.metrics.SparseCategoricalAccuracy()"
      ],
      "metadata": {
        "id": "oSQIhAmxs5jP"
      },
      "execution_count": null,
      "outputs": []
    },
    {
      "cell_type": "code",
      "source": [
        "@tf.function\n",
        "def train_step(x, y):\n",
        "    with tf.GradientTape() as tape:\n",
        "        logits = model(x, training=True)\n",
        "        loss_value = loss_fn(y, logits)\n",
        "    grads = tape.gradient(loss_value, model.trainable_weights)\n",
        "    optimizer.apply_gradients(zip(grads, model.trainable_weights))\n",
        "    train_acc_metric.update_state(y, logits)\n",
        "    return loss_value"
      ],
      "metadata": {
        "id": "MPG6UZI4r1KQ"
      },
      "execution_count": null,
      "outputs": []
    },
    {
      "cell_type": "code",
      "source": [
        "@tf.function\n",
        "def test_step(x, y):\n",
        "    val_logits = model(x, training=False)\n",
        "    val_acc_metric.update_state(y, val_logits)"
      ],
      "metadata": {
        "id": "uKj0lqHEr37c"
      },
      "execution_count": null,
      "outputs": []
    },
    {
      "cell_type": "code",
      "source": [
        "import time\n",
        "train_acc_history = []\n",
        "val_acc_history = []\n",
        "\n",
        "epochs = 20\n",
        "for epoch in range(epochs):\n",
        "    print(\"\\nStart of epoch %d\" % (epoch,))\n",
        "    start_time = time.time()\n",
        "\n",
        "    # Iterate over the batches of the dataset.\n",
        "    for step, (x_batch_train, y_batch_train) in enumerate(train_dataset):\n",
        "        loss_value = train_step(x_batch_train, y_batch_train)\n",
        "\n",
        "        # Log every 200 batches.\n",
        "        if step % 200 == 0:\n",
        "            print(\n",
        "                \"Training loss (for one batch) at step %d: %.4f\"\n",
        "                % (step, float(loss_value))\n",
        "            )\n",
        "            print(\"Seen so far: %d samples\" % ((step + 1) * batch_size))\n",
        "\n",
        "    # Display metrics at the end of each epoch.\n",
        "    train_acc = train_acc_metric.result()\n",
        "    print(\"Training acc over epoch {} : {}\" % (epoch,float(train_acc),))\n",
        "\n",
        "    # Reset training metrics at the end of each epoch\n",
        "    train_acc_metric.reset_states()\n",
        "\n",
        "    # Run a validation loop at the end of each epoch.\n",
        "    for x_batch_val, y_batch_val in val_dataset:\n",
        "        test_step(x_batch_val, y_batch_val)\n",
        "\n",
        "    val_acc = val_acc_metric.result()\n",
        "    val_acc_metric.reset_states()\n",
        "    print(\"Validation acc over epoch {} : {}\" % (epoch,float(val_acc),))\n",
        "\n",
        "    train_acc_history.append(train_acc)\n",
        "    val_acc_history.append(val_acc)\n",
        "\n",
        "    if len(val_acc_history) > 3 and  val_acc > val_acc_history[-2] and val_acc > val_acc_history[-3]:\n",
        "        print(\"Early stopping training...\")\n",
        "        nmt.save_weights('/content/NMT_weights/nmt_weights_{}'.format(epoch), save_format='tf')\n",
        "        with open(\"/content/NMT_weights/epoch_{}.txt\".format(epoch),'w'):\n",
        "            f.write(\"train_accuracy : {} \\t val_accuracy {}\".format(str(float(train_acc)),str(float(val_acc))))\n",
        "\n",
        "        break\n",
        "\n",
        "    print(\"Time taken: %.2fs\" % (time.time() - start_time))"
      ],
      "metadata": {
        "id": "BudCIWASrwJl"
      },
      "execution_count": null,
      "outputs": []
    },
    {
      "cell_type": "code",
      "source": [
        "nmt.save_weights('/content/NMT_weights/nmt_weights', save_format='tf')"
      ],
      "metadata": {
        "id": "Rrsf_XhBk7T1"
      },
      "execution_count": null,
      "outputs": []
    },
    {
      "cell_type": "code",
      "source": [
        "nmt.load_weights('/content/model_weights/')"
      ],
      "metadata": {
        "colab": {
          "base_uri": "https://localhost:8080/"
        },
        "id": "t9PogEg9lo_J",
        "outputId": "33d30043-5bb9-4be9-e760-b20b47965b6f"
      },
      "execution_count": null,
      "outputs": [
        {
          "output_type": "execute_result",
          "data": {
            "text/plain": [
              "<tensorflow.python.training.tracking.util.CheckpointLoadStatus at 0x7f2188d9ed90>"
            ]
          },
          "metadata": {},
          "execution_count": 226
        }
      ]
    },
    {
      "cell_type": "code",
      "source": [
        "op = nmt.single_predict(np.expand_dims(en_train_padded_sequences[0,:],axis=0))"
      ],
      "metadata": {
        "id": "_7rDq1rpoHA7"
      },
      "execution_count": null,
      "outputs": []
    },
    {
      "cell_type": "code",
      "source": [
        "print(en_tokenizer.sequences_to_texts(np.expand_dims(en_train_padded_sequences[0,:],axis=0)))"
      ],
      "metadata": {
        "colab": {
          "base_uri": "https://localhost:8080/"
        },
        "id": "WfBMCF7mCnpS",
        "outputId": "dffe9335-f335-4db8-e8e1-16f163fa235f"
      },
      "execution_count": null,
      "outputs": [
        {
          "output_type": "stream",
          "name": "stdout",
          "text": [
            "['[start] when he ran away to the laden ship [end] [UNK] [UNK] [UNK] [UNK] [UNK] [UNK] [UNK] [UNK] [UNK] [UNK] [UNK] [UNK] [UNK] [UNK] [UNK] [UNK] [UNK] [UNK] [UNK] [UNK]']\n"
          ]
        }
      ]
    },
    {
      "cell_type": "code",
      "source": [
        "print(op)"
      ],
      "metadata": {
        "colab": {
          "base_uri": "https://localhost:8080/"
        },
        "id": "-6UPPoX3oNje",
        "outputId": "613c1366-5fd8-4711-c648-db9328f9d03d"
      },
      "execution_count": null,
      "outputs": [
        {
          "output_type": "stream",
          "name": "stdout",
          "text": [
            " एकरसता विह्वल नियामकीय परछाई सचमुच सचमुच खिलाफ़ उतनी मांद उत्सवों अनैच्छिक एजोला मैप अतुल्यकालित अहम् अहम् पास्ट किरणों रखी चौंका अलिंद छोडने गवर्नर अविवाहित शिकारी फीरोजशाह रक्तस्रावण पातिव्रत घड़नेवाले रक्तस्रावण फीडबैक\n"
          ]
        }
      ]
    },
    {
      "cell_type": "code",
      "source": [],
      "metadata": {
        "id": "1fzoGoSUownh"
      },
      "execution_count": null,
      "outputs": []
    }
  ]
}