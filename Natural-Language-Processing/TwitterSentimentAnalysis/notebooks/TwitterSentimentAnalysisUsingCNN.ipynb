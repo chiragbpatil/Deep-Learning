{
  "nbformat": 4,
  "nbformat_minor": 0,
  "metadata": {
    "colab": {
      "provenance": [],
      "collapsed_sections": [
        "08869ppixH_S"
      ]
    },
    "kernelspec": {
      "name": "python3",
      "display_name": "Python 3"
    },
    "accelerator": "GPU",
    "gpuClass": "standard"
  },
  "cells": [
    {
      "cell_type": "markdown",
      "metadata": {
        "id": "jQsTFNGFhKvT"
      },
      "source": [
        "## **Here I will use CNN for text classification**"
      ]
    },
    {
      "cell_type": "markdown",
      "metadata": {
        "id": "ckg5qldthUNw"
      },
      "source": [
        "## Download Data set"
      ]
    },
    {
      "cell_type": "markdown",
      "metadata": {
        "id": "iqdQdYRLhpDl"
      },
      "source": [
        "**Here I will use Sentiment140 dataset**<br>\n",
        "**Source : [link text](https://www.kaggle.com/kazanova/sentiment140)**"
      ]
    },
    {
      "cell_type": "code",
      "metadata": {
        "id": "OxcoiEHpgc31"
      },
      "source": [
        "# upload kaggle.json\n",
        "from google.colab import files\n",
        "files.upload()"
      ],
      "execution_count": null,
      "outputs": []
    },
    {
      "cell_type": "code",
      "metadata": {
        "id": "l_08fBvKgyFJ"
      },
      "source": [
        "# Make directory named kaggle and copy kaggle.json file there.\n",
        "\n",
        "! mkdir ~/.kaggle\n",
        "! cp kaggle.json ~/.kaggle/"
      ],
      "execution_count": 3,
      "outputs": []
    },
    {
      "cell_type": "code",
      "metadata": {
        "id": "eELkx9iFhELf"
      },
      "source": [
        "# Change the permissions of the file.\n",
        "! chmod 600 ~/.kaggle/kaggle.json"
      ],
      "execution_count": 4,
      "outputs": []
    },
    {
      "cell_type": "code",
      "metadata": {
        "id": "oKDnIW--hGUT",
        "colab": {
          "base_uri": "https://localhost:8080/"
        },
        "outputId": "53d5ec32-643f-4de8-aa04-d0c5d466cc95"
      },
      "source": [
        "#dowload dataset\n",
        "!kaggle datasets download -d kazanova/sentiment140"
      ],
      "execution_count": 1,
      "outputs": [
        {
          "output_type": "stream",
          "name": "stdout",
          "text": [
            "Downloading sentiment140.zip to /content\n",
            " 98% 79.0M/80.9M [00:04<00:00, 24.8MB/s]\n",
            "100% 80.9M/80.9M [00:04<00:00, 19.1MB/s]\n"
          ]
        }
      ]
    },
    {
      "cell_type": "code",
      "metadata": {
        "id": "s7GEAqvgiE_c",
        "colab": {
          "base_uri": "https://localhost:8080/"
        },
        "outputId": "d001b832-797c-4b0d-fc07-9f468917f25b"
      },
      "source": [
        "#unzio dataset\n",
        "!unzip sentiment140.zip"
      ],
      "execution_count": 2,
      "outputs": [
        {
          "output_type": "stream",
          "name": "stdout",
          "text": [
            "Archive:  sentiment140.zip\n",
            "  inflating: training.1600000.processed.noemoticon.csv  \n"
          ]
        }
      ]
    },
    {
      "cell_type": "code",
      "metadata": {
        "id": "e6CQLNapiXS1"
      },
      "source": [
        "#rename file\n",
        "import os\n",
        "os.rename('training.1600000.processed.noemoticon.csv', 'twitter_sentiment_analysis.csv')"
      ],
      "execution_count": 3,
      "outputs": []
    },
    {
      "cell_type": "markdown",
      "metadata": {
        "id": "oIwpUSRmnFi9"
      },
      "source": [
        "# Import"
      ]
    },
    {
      "cell_type": "code",
      "metadata": {
        "id": "xthwrZLGnEa8"
      },
      "source": [
        "from bs4 import BeautifulSoup\n",
        "from sklearn.model_selection import train_test_split\n",
        "from tensorflow.keras import models\n",
        "import pandas as pd\n",
        "import re\n",
        "import numpy as np\n",
        "import tensorflow_datasets as tfds\n",
        "import tensorflow as tf\n"
      ],
      "execution_count": 4,
      "outputs": []
    },
    {
      "cell_type": "markdown",
      "metadata": {
        "id": "xTZlAnhOiHEm"
      },
      "source": [
        "# Explore dataset\n",
        "\n"
      ]
    },
    {
      "cell_type": "code",
      "metadata": {
        "id": "Q6lUWGjGiyja"
      },
      "source": [
        "# with default encoding i am getting UnicodeDecodeError so use encoding = 'ISO-8859-1\n",
        "# i got solution at https://stackoverflow.com/a/18172249\n",
        "# you can find columns name at dataset link\n",
        "\n",
        "data = pd.read_csv(\"twitter_sentiment_analysis.csv\",encoding='ISO-8859-1',header=None,names=['target','id','date','flag','user','text'])"
      ],
      "execution_count": 5,
      "outputs": []
    },
    {
      "cell_type": "code",
      "metadata": {
        "id": "rdBxKwOsi5dg",
        "colab": {
          "base_uri": "https://localhost:8080/",
          "height": 206
        },
        "outputId": "f1f3dffd-23a6-4122-b530-d60d71f8d29e"
      },
      "source": [
        "data.head()"
      ],
      "execution_count": 6,
      "outputs": [
        {
          "output_type": "execute_result",
          "data": {
            "text/plain": [
              "   target          id                          date      flag  \\\n",
              "0       0  1467810369  Mon Apr 06 22:19:45 PDT 2009  NO_QUERY   \n",
              "1       0  1467810672  Mon Apr 06 22:19:49 PDT 2009  NO_QUERY   \n",
              "2       0  1467810917  Mon Apr 06 22:19:53 PDT 2009  NO_QUERY   \n",
              "3       0  1467811184  Mon Apr 06 22:19:57 PDT 2009  NO_QUERY   \n",
              "4       0  1467811193  Mon Apr 06 22:19:57 PDT 2009  NO_QUERY   \n",
              "\n",
              "              user                                               text  \n",
              "0  _TheSpecialOne_  @switchfoot http://twitpic.com/2y1zl - Awww, t...  \n",
              "1    scotthamilton  is upset that he can't update his Facebook by ...  \n",
              "2         mattycus  @Kenichan I dived many times for the ball. Man...  \n",
              "3          ElleCTF    my whole body feels itchy and like its on fire   \n",
              "4           Karoli  @nationwideclass no, it's not behaving at all....  "
            ],
            "text/html": [
              "\n",
              "  <div id=\"df-8423672a-7561-4e8c-8cc2-fed7f63e7f77\">\n",
              "    <div class=\"colab-df-container\">\n",
              "      <div>\n",
              "<style scoped>\n",
              "    .dataframe tbody tr th:only-of-type {\n",
              "        vertical-align: middle;\n",
              "    }\n",
              "\n",
              "    .dataframe tbody tr th {\n",
              "        vertical-align: top;\n",
              "    }\n",
              "\n",
              "    .dataframe thead th {\n",
              "        text-align: right;\n",
              "    }\n",
              "</style>\n",
              "<table border=\"1\" class=\"dataframe\">\n",
              "  <thead>\n",
              "    <tr style=\"text-align: right;\">\n",
              "      <th></th>\n",
              "      <th>target</th>\n",
              "      <th>id</th>\n",
              "      <th>date</th>\n",
              "      <th>flag</th>\n",
              "      <th>user</th>\n",
              "      <th>text</th>\n",
              "    </tr>\n",
              "  </thead>\n",
              "  <tbody>\n",
              "    <tr>\n",
              "      <th>0</th>\n",
              "      <td>0</td>\n",
              "      <td>1467810369</td>\n",
              "      <td>Mon Apr 06 22:19:45 PDT 2009</td>\n",
              "      <td>NO_QUERY</td>\n",
              "      <td>_TheSpecialOne_</td>\n",
              "      <td>@switchfoot http://twitpic.com/2y1zl - Awww, t...</td>\n",
              "    </tr>\n",
              "    <tr>\n",
              "      <th>1</th>\n",
              "      <td>0</td>\n",
              "      <td>1467810672</td>\n",
              "      <td>Mon Apr 06 22:19:49 PDT 2009</td>\n",
              "      <td>NO_QUERY</td>\n",
              "      <td>scotthamilton</td>\n",
              "      <td>is upset that he can't update his Facebook by ...</td>\n",
              "    </tr>\n",
              "    <tr>\n",
              "      <th>2</th>\n",
              "      <td>0</td>\n",
              "      <td>1467810917</td>\n",
              "      <td>Mon Apr 06 22:19:53 PDT 2009</td>\n",
              "      <td>NO_QUERY</td>\n",
              "      <td>mattycus</td>\n",
              "      <td>@Kenichan I dived many times for the ball. Man...</td>\n",
              "    </tr>\n",
              "    <tr>\n",
              "      <th>3</th>\n",
              "      <td>0</td>\n",
              "      <td>1467811184</td>\n",
              "      <td>Mon Apr 06 22:19:57 PDT 2009</td>\n",
              "      <td>NO_QUERY</td>\n",
              "      <td>ElleCTF</td>\n",
              "      <td>my whole body feels itchy and like its on fire</td>\n",
              "    </tr>\n",
              "    <tr>\n",
              "      <th>4</th>\n",
              "      <td>0</td>\n",
              "      <td>1467811193</td>\n",
              "      <td>Mon Apr 06 22:19:57 PDT 2009</td>\n",
              "      <td>NO_QUERY</td>\n",
              "      <td>Karoli</td>\n",
              "      <td>@nationwideclass no, it's not behaving at all....</td>\n",
              "    </tr>\n",
              "  </tbody>\n",
              "</table>\n",
              "</div>\n",
              "      <button class=\"colab-df-convert\" onclick=\"convertToInteractive('df-8423672a-7561-4e8c-8cc2-fed7f63e7f77')\"\n",
              "              title=\"Convert this dataframe to an interactive table.\"\n",
              "              style=\"display:none;\">\n",
              "        \n",
              "  <svg xmlns=\"http://www.w3.org/2000/svg\" height=\"24px\"viewBox=\"0 0 24 24\"\n",
              "       width=\"24px\">\n",
              "    <path d=\"M0 0h24v24H0V0z\" fill=\"none\"/>\n",
              "    <path d=\"M18.56 5.44l.94 2.06.94-2.06 2.06-.94-2.06-.94-.94-2.06-.94 2.06-2.06.94zm-11 1L8.5 8.5l.94-2.06 2.06-.94-2.06-.94L8.5 2.5l-.94 2.06-2.06.94zm10 10l.94 2.06.94-2.06 2.06-.94-2.06-.94-.94-2.06-.94 2.06-2.06.94z\"/><path d=\"M17.41 7.96l-1.37-1.37c-.4-.4-.92-.59-1.43-.59-.52 0-1.04.2-1.43.59L10.3 9.45l-7.72 7.72c-.78.78-.78 2.05 0 2.83L4 21.41c.39.39.9.59 1.41.59.51 0 1.02-.2 1.41-.59l7.78-7.78 2.81-2.81c.8-.78.8-2.07 0-2.86zM5.41 20L4 18.59l7.72-7.72 1.47 1.35L5.41 20z\"/>\n",
              "  </svg>\n",
              "      </button>\n",
              "      \n",
              "  <style>\n",
              "    .colab-df-container {\n",
              "      display:flex;\n",
              "      flex-wrap:wrap;\n",
              "      gap: 12px;\n",
              "    }\n",
              "\n",
              "    .colab-df-convert {\n",
              "      background-color: #E8F0FE;\n",
              "      border: none;\n",
              "      border-radius: 50%;\n",
              "      cursor: pointer;\n",
              "      display: none;\n",
              "      fill: #1967D2;\n",
              "      height: 32px;\n",
              "      padding: 0 0 0 0;\n",
              "      width: 32px;\n",
              "    }\n",
              "\n",
              "    .colab-df-convert:hover {\n",
              "      background-color: #E2EBFA;\n",
              "      box-shadow: 0px 1px 2px rgba(60, 64, 67, 0.3), 0px 1px 3px 1px rgba(60, 64, 67, 0.15);\n",
              "      fill: #174EA6;\n",
              "    }\n",
              "\n",
              "    [theme=dark] .colab-df-convert {\n",
              "      background-color: #3B4455;\n",
              "      fill: #D2E3FC;\n",
              "    }\n",
              "\n",
              "    [theme=dark] .colab-df-convert:hover {\n",
              "      background-color: #434B5C;\n",
              "      box-shadow: 0px 1px 3px 1px rgba(0, 0, 0, 0.15);\n",
              "      filter: drop-shadow(0px 1px 2px rgba(0, 0, 0, 0.3));\n",
              "      fill: #FFFFFF;\n",
              "    }\n",
              "  </style>\n",
              "\n",
              "      <script>\n",
              "        const buttonEl =\n",
              "          document.querySelector('#df-8423672a-7561-4e8c-8cc2-fed7f63e7f77 button.colab-df-convert');\n",
              "        buttonEl.style.display =\n",
              "          google.colab.kernel.accessAllowed ? 'block' : 'none';\n",
              "\n",
              "        async function convertToInteractive(key) {\n",
              "          const element = document.querySelector('#df-8423672a-7561-4e8c-8cc2-fed7f63e7f77');\n",
              "          const dataTable =\n",
              "            await google.colab.kernel.invokeFunction('convertToInteractive',\n",
              "                                                     [key], {});\n",
              "          if (!dataTable) return;\n",
              "\n",
              "          const docLinkHtml = 'Like what you see? Visit the ' +\n",
              "            '<a target=\"_blank\" href=https://colab.research.google.com/notebooks/data_table.ipynb>data table notebook</a>'\n",
              "            + ' to learn more about interactive tables.';\n",
              "          element.innerHTML = '';\n",
              "          dataTable['output_type'] = 'display_data';\n",
              "          await google.colab.output.renderOutput(dataTable, element);\n",
              "          const docLink = document.createElement('div');\n",
              "          docLink.innerHTML = docLinkHtml;\n",
              "          element.appendChild(docLink);\n",
              "        }\n",
              "      </script>\n",
              "    </div>\n",
              "  </div>\n",
              "  "
            ]
          },
          "metadata": {},
          "execution_count": 6
        }
      ]
    },
    {
      "cell_type": "code",
      "metadata": {
        "id": "DaN6AugDHapV",
        "colab": {
          "base_uri": "https://localhost:8080/"
        },
        "outputId": "efa272ea-64d8-49bc-e64c-b964b1ce42d9"
      },
      "source": [
        "data['target'].value_counts()"
      ],
      "execution_count": 7,
      "outputs": [
        {
          "output_type": "execute_result",
          "data": {
            "text/plain": [
              "0    800000\n",
              "4    800000\n",
              "Name: target, dtype: int64"
            ]
          },
          "metadata": {},
          "execution_count": 7
        }
      ]
    },
    {
      "cell_type": "markdown",
      "metadata": {
        "id": "MgAxlgRtlpb0"
      },
      "source": [
        "\n",
        "**csv file contains following fields**\n",
        "\n",
        "* target: the polarity of the tweet (0 = negative 4 = positive)\n",
        "\n",
        "* ids: The id of the tweet\n",
        "\n",
        "* date: the date of the tweet (Sat May 16 23:58:44 UTC 2009)\n",
        "\n",
        "* flag: The query (lyx). If there is no query, then this value is NO_QUERY.\n",
        "\n",
        "* user: the user that tweeted (robotickilldozr)\n",
        "\n",
        "* text: the text of the tweet (Lyx is cool)\n"
      ]
    },
    {
      "cell_type": "markdown",
      "metadata": {
        "id": "6writXsBmRbz"
      },
      "source": [
        "**For our purpuse we need only two fields text and target**"
      ]
    },
    {
      "cell_type": "code",
      "metadata": {
        "id": "osm1ZCnNkNYN",
        "colab": {
          "base_uri": "https://localhost:8080/",
          "height": 206
        },
        "outputId": "dd1ceb2d-bc80-41f4-ca92-ef7332c22ca8"
      },
      "source": [
        "#extract two fields text and target\n",
        "data = data[['text','target']]\n",
        "data.head()"
      ],
      "execution_count": 8,
      "outputs": [
        {
          "output_type": "execute_result",
          "data": {
            "text/plain": [
              "                                                text  target\n",
              "0  @switchfoot http://twitpic.com/2y1zl - Awww, t...       0\n",
              "1  is upset that he can't update his Facebook by ...       0\n",
              "2  @Kenichan I dived many times for the ball. Man...       0\n",
              "3    my whole body feels itchy and like its on fire        0\n",
              "4  @nationwideclass no, it's not behaving at all....       0"
            ],
            "text/html": [
              "\n",
              "  <div id=\"df-5bb99b29-1add-4dd0-b0e8-a252b3553a79\">\n",
              "    <div class=\"colab-df-container\">\n",
              "      <div>\n",
              "<style scoped>\n",
              "    .dataframe tbody tr th:only-of-type {\n",
              "        vertical-align: middle;\n",
              "    }\n",
              "\n",
              "    .dataframe tbody tr th {\n",
              "        vertical-align: top;\n",
              "    }\n",
              "\n",
              "    .dataframe thead th {\n",
              "        text-align: right;\n",
              "    }\n",
              "</style>\n",
              "<table border=\"1\" class=\"dataframe\">\n",
              "  <thead>\n",
              "    <tr style=\"text-align: right;\">\n",
              "      <th></th>\n",
              "      <th>text</th>\n",
              "      <th>target</th>\n",
              "    </tr>\n",
              "  </thead>\n",
              "  <tbody>\n",
              "    <tr>\n",
              "      <th>0</th>\n",
              "      <td>@switchfoot http://twitpic.com/2y1zl - Awww, t...</td>\n",
              "      <td>0</td>\n",
              "    </tr>\n",
              "    <tr>\n",
              "      <th>1</th>\n",
              "      <td>is upset that he can't update his Facebook by ...</td>\n",
              "      <td>0</td>\n",
              "    </tr>\n",
              "    <tr>\n",
              "      <th>2</th>\n",
              "      <td>@Kenichan I dived many times for the ball. Man...</td>\n",
              "      <td>0</td>\n",
              "    </tr>\n",
              "    <tr>\n",
              "      <th>3</th>\n",
              "      <td>my whole body feels itchy and like its on fire</td>\n",
              "      <td>0</td>\n",
              "    </tr>\n",
              "    <tr>\n",
              "      <th>4</th>\n",
              "      <td>@nationwideclass no, it's not behaving at all....</td>\n",
              "      <td>0</td>\n",
              "    </tr>\n",
              "  </tbody>\n",
              "</table>\n",
              "</div>\n",
              "      <button class=\"colab-df-convert\" onclick=\"convertToInteractive('df-5bb99b29-1add-4dd0-b0e8-a252b3553a79')\"\n",
              "              title=\"Convert this dataframe to an interactive table.\"\n",
              "              style=\"display:none;\">\n",
              "        \n",
              "  <svg xmlns=\"http://www.w3.org/2000/svg\" height=\"24px\"viewBox=\"0 0 24 24\"\n",
              "       width=\"24px\">\n",
              "    <path d=\"M0 0h24v24H0V0z\" fill=\"none\"/>\n",
              "    <path d=\"M18.56 5.44l.94 2.06.94-2.06 2.06-.94-2.06-.94-.94-2.06-.94 2.06-2.06.94zm-11 1L8.5 8.5l.94-2.06 2.06-.94-2.06-.94L8.5 2.5l-.94 2.06-2.06.94zm10 10l.94 2.06.94-2.06 2.06-.94-2.06-.94-.94-2.06-.94 2.06-2.06.94z\"/><path d=\"M17.41 7.96l-1.37-1.37c-.4-.4-.92-.59-1.43-.59-.52 0-1.04.2-1.43.59L10.3 9.45l-7.72 7.72c-.78.78-.78 2.05 0 2.83L4 21.41c.39.39.9.59 1.41.59.51 0 1.02-.2 1.41-.59l7.78-7.78 2.81-2.81c.8-.78.8-2.07 0-2.86zM5.41 20L4 18.59l7.72-7.72 1.47 1.35L5.41 20z\"/>\n",
              "  </svg>\n",
              "      </button>\n",
              "      \n",
              "  <style>\n",
              "    .colab-df-container {\n",
              "      display:flex;\n",
              "      flex-wrap:wrap;\n",
              "      gap: 12px;\n",
              "    }\n",
              "\n",
              "    .colab-df-convert {\n",
              "      background-color: #E8F0FE;\n",
              "      border: none;\n",
              "      border-radius: 50%;\n",
              "      cursor: pointer;\n",
              "      display: none;\n",
              "      fill: #1967D2;\n",
              "      height: 32px;\n",
              "      padding: 0 0 0 0;\n",
              "      width: 32px;\n",
              "    }\n",
              "\n",
              "    .colab-df-convert:hover {\n",
              "      background-color: #E2EBFA;\n",
              "      box-shadow: 0px 1px 2px rgba(60, 64, 67, 0.3), 0px 1px 3px 1px rgba(60, 64, 67, 0.15);\n",
              "      fill: #174EA6;\n",
              "    }\n",
              "\n",
              "    [theme=dark] .colab-df-convert {\n",
              "      background-color: #3B4455;\n",
              "      fill: #D2E3FC;\n",
              "    }\n",
              "\n",
              "    [theme=dark] .colab-df-convert:hover {\n",
              "      background-color: #434B5C;\n",
              "      box-shadow: 0px 1px 3px 1px rgba(0, 0, 0, 0.15);\n",
              "      filter: drop-shadow(0px 1px 2px rgba(0, 0, 0, 0.3));\n",
              "      fill: #FFFFFF;\n",
              "    }\n",
              "  </style>\n",
              "\n",
              "      <script>\n",
              "        const buttonEl =\n",
              "          document.querySelector('#df-5bb99b29-1add-4dd0-b0e8-a252b3553a79 button.colab-df-convert');\n",
              "        buttonEl.style.display =\n",
              "          google.colab.kernel.accessAllowed ? 'block' : 'none';\n",
              "\n",
              "        async function convertToInteractive(key) {\n",
              "          const element = document.querySelector('#df-5bb99b29-1add-4dd0-b0e8-a252b3553a79');\n",
              "          const dataTable =\n",
              "            await google.colab.kernel.invokeFunction('convertToInteractive',\n",
              "                                                     [key], {});\n",
              "          if (!dataTable) return;\n",
              "\n",
              "          const docLinkHtml = 'Like what you see? Visit the ' +\n",
              "            '<a target=\"_blank\" href=https://colab.research.google.com/notebooks/data_table.ipynb>data table notebook</a>'\n",
              "            + ' to learn more about interactive tables.';\n",
              "          element.innerHTML = '';\n",
              "          dataTable['output_type'] = 'display_data';\n",
              "          await google.colab.output.renderOutput(dataTable, element);\n",
              "          const docLink = document.createElement('div');\n",
              "          docLink.innerHTML = docLinkHtml;\n",
              "          element.appendChild(docLink);\n",
              "        }\n",
              "      </script>\n",
              "    </div>\n",
              "  </div>\n",
              "  "
            ]
          },
          "metadata": {},
          "execution_count": 8
        }
      ]
    },
    {
      "cell_type": "code",
      "metadata": {
        "id": "DptasrZvmjDk",
        "colab": {
          "base_uri": "https://localhost:8080/"
        },
        "outputId": "213e207c-74ff-41d6-b84e-3eb801da2066"
      },
      "source": [
        "data.shape"
      ],
      "execution_count": 9,
      "outputs": [
        {
          "output_type": "execute_result",
          "data": {
            "text/plain": [
              "(1600000, 2)"
            ]
          },
          "metadata": {},
          "execution_count": 9
        }
      ]
    },
    {
      "cell_type": "markdown",
      "metadata": {
        "id": "efEeqDWgmuW7"
      },
      "source": [
        "* **Here we have 1600000 revies with target** <br>\n",
        "* **we can see that text contains some special symbol like @, it might contains some html tags we have to remove it. and target column has 0 and 4 we will convert it into 0 and 1.**<br>\n",
        "* **let pre-process this text**"
      ]
    },
    {
      "cell_type": "markdown",
      "metadata": {
        "id": "LHTl3asNneCc"
      },
      "source": [
        "# Pre-Processing"
      ]
    },
    {
      "cell_type": "code",
      "metadata": {
        "id": "R6UGC957mm-u"
      },
      "source": [
        "def clean_tweets(tweet):\n",
        "  tweet = BeautifulSoup(tweet).get_text() # remove all html tags\n",
        "  tweet = re.sub(r'@[A-Za-z0-9]+',' ',tweet) # replace each word which start from @ (example : @Kenichan) with space\n",
        "  tweet = re.sub(r'https?://[A-Za-z0-9./]+',' ',tweet) # replace url or links with space\n",
        "  tweet = re.sub(r\"[^A-Za-z.!?']\",' ',tweet) #replace everything exceptspecified in group\n",
        "  tweet = re.sub(r\" +\",' ',tweet) # replace multple white spaces with single space\n",
        "  return tweet\n"
      ],
      "execution_count": 10,
      "outputs": []
    },
    {
      "cell_type": "code",
      "metadata": {
        "id": "JTMJCSrUqQ98"
      },
      "source": [
        "data['text'] = data['text'].apply(clean_tweets)"
      ],
      "execution_count": 11,
      "outputs": []
    },
    {
      "cell_type": "code",
      "metadata": {
        "id": "yHpfaRRxOhvZ"
      },
      "source": [
        "data['target'].replace(4, 1,inplace=True)"
      ],
      "execution_count": 12,
      "outputs": []
    },
    {
      "cell_type": "code",
      "metadata": {
        "id": "sfkTI50zrF11",
        "colab": {
          "base_uri": "https://localhost:8080/",
          "height": 206
        },
        "outputId": "5fbd4a66-3d0b-4487-b019-f16a7c0a9dd9"
      },
      "source": [
        "data.head()"
      ],
      "execution_count": 14,
      "outputs": [
        {
          "output_type": "execute_result",
          "data": {
            "text/plain": [
              "                                                text  target\n",
              "0   Awww that's a bummer. You shoulda got David C...       0\n",
              "1  is upset that he can't update his Facebook by ...       0\n",
              "2   I dived many times for the ball. Managed to s...       0\n",
              "3    my whole body feels itchy and like its on fire        0\n",
              "4   no it's not behaving at all. i'm mad. why am ...       0"
            ],
            "text/html": [
              "\n",
              "  <div id=\"df-fce15d66-e580-47fe-ab97-eaf2091f248d\">\n",
              "    <div class=\"colab-df-container\">\n",
              "      <div>\n",
              "<style scoped>\n",
              "    .dataframe tbody tr th:only-of-type {\n",
              "        vertical-align: middle;\n",
              "    }\n",
              "\n",
              "    .dataframe tbody tr th {\n",
              "        vertical-align: top;\n",
              "    }\n",
              "\n",
              "    .dataframe thead th {\n",
              "        text-align: right;\n",
              "    }\n",
              "</style>\n",
              "<table border=\"1\" class=\"dataframe\">\n",
              "  <thead>\n",
              "    <tr style=\"text-align: right;\">\n",
              "      <th></th>\n",
              "      <th>text</th>\n",
              "      <th>target</th>\n",
              "    </tr>\n",
              "  </thead>\n",
              "  <tbody>\n",
              "    <tr>\n",
              "      <th>0</th>\n",
              "      <td>Awww that's a bummer. You shoulda got David C...</td>\n",
              "      <td>0</td>\n",
              "    </tr>\n",
              "    <tr>\n",
              "      <th>1</th>\n",
              "      <td>is upset that he can't update his Facebook by ...</td>\n",
              "      <td>0</td>\n",
              "    </tr>\n",
              "    <tr>\n",
              "      <th>2</th>\n",
              "      <td>I dived many times for the ball. Managed to s...</td>\n",
              "      <td>0</td>\n",
              "    </tr>\n",
              "    <tr>\n",
              "      <th>3</th>\n",
              "      <td>my whole body feels itchy and like its on fire</td>\n",
              "      <td>0</td>\n",
              "    </tr>\n",
              "    <tr>\n",
              "      <th>4</th>\n",
              "      <td>no it's not behaving at all. i'm mad. why am ...</td>\n",
              "      <td>0</td>\n",
              "    </tr>\n",
              "  </tbody>\n",
              "</table>\n",
              "</div>\n",
              "      <button class=\"colab-df-convert\" onclick=\"convertToInteractive('df-fce15d66-e580-47fe-ab97-eaf2091f248d')\"\n",
              "              title=\"Convert this dataframe to an interactive table.\"\n",
              "              style=\"display:none;\">\n",
              "        \n",
              "  <svg xmlns=\"http://www.w3.org/2000/svg\" height=\"24px\"viewBox=\"0 0 24 24\"\n",
              "       width=\"24px\">\n",
              "    <path d=\"M0 0h24v24H0V0z\" fill=\"none\"/>\n",
              "    <path d=\"M18.56 5.44l.94 2.06.94-2.06 2.06-.94-2.06-.94-.94-2.06-.94 2.06-2.06.94zm-11 1L8.5 8.5l.94-2.06 2.06-.94-2.06-.94L8.5 2.5l-.94 2.06-2.06.94zm10 10l.94 2.06.94-2.06 2.06-.94-2.06-.94-.94-2.06-.94 2.06-2.06.94z\"/><path d=\"M17.41 7.96l-1.37-1.37c-.4-.4-.92-.59-1.43-.59-.52 0-1.04.2-1.43.59L10.3 9.45l-7.72 7.72c-.78.78-.78 2.05 0 2.83L4 21.41c.39.39.9.59 1.41.59.51 0 1.02-.2 1.41-.59l7.78-7.78 2.81-2.81c.8-.78.8-2.07 0-2.86zM5.41 20L4 18.59l7.72-7.72 1.47 1.35L5.41 20z\"/>\n",
              "  </svg>\n",
              "      </button>\n",
              "      \n",
              "  <style>\n",
              "    .colab-df-container {\n",
              "      display:flex;\n",
              "      flex-wrap:wrap;\n",
              "      gap: 12px;\n",
              "    }\n",
              "\n",
              "    .colab-df-convert {\n",
              "      background-color: #E8F0FE;\n",
              "      border: none;\n",
              "      border-radius: 50%;\n",
              "      cursor: pointer;\n",
              "      display: none;\n",
              "      fill: #1967D2;\n",
              "      height: 32px;\n",
              "      padding: 0 0 0 0;\n",
              "      width: 32px;\n",
              "    }\n",
              "\n",
              "    .colab-df-convert:hover {\n",
              "      background-color: #E2EBFA;\n",
              "      box-shadow: 0px 1px 2px rgba(60, 64, 67, 0.3), 0px 1px 3px 1px rgba(60, 64, 67, 0.15);\n",
              "      fill: #174EA6;\n",
              "    }\n",
              "\n",
              "    [theme=dark] .colab-df-convert {\n",
              "      background-color: #3B4455;\n",
              "      fill: #D2E3FC;\n",
              "    }\n",
              "\n",
              "    [theme=dark] .colab-df-convert:hover {\n",
              "      background-color: #434B5C;\n",
              "      box-shadow: 0px 1px 3px 1px rgba(0, 0, 0, 0.15);\n",
              "      filter: drop-shadow(0px 1px 2px rgba(0, 0, 0, 0.3));\n",
              "      fill: #FFFFFF;\n",
              "    }\n",
              "  </style>\n",
              "\n",
              "      <script>\n",
              "        const buttonEl =\n",
              "          document.querySelector('#df-fce15d66-e580-47fe-ab97-eaf2091f248d button.colab-df-convert');\n",
              "        buttonEl.style.display =\n",
              "          google.colab.kernel.accessAllowed ? 'block' : 'none';\n",
              "\n",
              "        async function convertToInteractive(key) {\n",
              "          const element = document.querySelector('#df-fce15d66-e580-47fe-ab97-eaf2091f248d');\n",
              "          const dataTable =\n",
              "            await google.colab.kernel.invokeFunction('convertToInteractive',\n",
              "                                                     [key], {});\n",
              "          if (!dataTable) return;\n",
              "\n",
              "          const docLinkHtml = 'Like what you see? Visit the ' +\n",
              "            '<a target=\"_blank\" href=https://colab.research.google.com/notebooks/data_table.ipynb>data table notebook</a>'\n",
              "            + ' to learn more about interactive tables.';\n",
              "          element.innerHTML = '';\n",
              "          dataTable['output_type'] = 'display_data';\n",
              "          await google.colab.output.renderOutput(dataTable, element);\n",
              "          const docLink = document.createElement('div');\n",
              "          docLink.innerHTML = docLinkHtml;\n",
              "          element.appendChild(docLink);\n",
              "        }\n",
              "      </script>\n",
              "    </div>\n",
              "  </div>\n",
              "  "
            ]
          },
          "metadata": {},
          "execution_count": 14
        }
      ]
    },
    {
      "cell_type": "markdown",
      "metadata": {
        "id": "zmFNP18PwvLG"
      },
      "source": [
        "**Here we cleaned our text and change value of target field**"
      ]
    },
    {
      "cell_type": "code",
      "metadata": {
        "id": "Ew255xoKwouC"
      },
      "source": [
        "data.to_csv('Data/twitter_sentiment_analysis.csv',index=False)\n"
      ],
      "execution_count": 15,
      "outputs": []
    },
    {
      "cell_type": "markdown",
      "metadata": {
        "id": "08869ppixH_S"
      },
      "source": [
        "## Tokenizing each tweets"
      ]
    },
    {
      "cell_type": "code",
      "metadata": {
        "id": "h0uaqSog4SNs"
      },
      "source": [
        "data = pd.read_csv('Data/twitter_sentiment_analysis.csv')"
      ],
      "execution_count": 16,
      "outputs": []
    },
    {
      "cell_type": "code",
      "metadata": {
        "id": "bcPgsxcPE-c3",
        "colab": {
          "base_uri": "https://localhost:8080/"
        },
        "outputId": "e59fa1c1-9381-40bb-e83b-df28654a752f"
      },
      "source": [
        "data['target'].value_counts()"
      ],
      "execution_count": 17,
      "outputs": [
        {
          "output_type": "execute_result",
          "data": {
            "text/plain": [
              "0    800000\n",
              "1    800000\n",
              "Name: target, dtype: int64"
            ]
          },
          "metadata": {},
          "execution_count": 17
        }
      ]
    },
    {
      "cell_type": "code",
      "metadata": {
        "id": "SqEptIqHxRXf"
      },
      "source": [
        "# get both column as list\n",
        "clean_text = data.text.to_list()\n",
        "labels = data.target.to_list()"
      ],
      "execution_count": 18,
      "outputs": []
    },
    {
      "cell_type": "code",
      "metadata": {
        "id": "TSAxbwYpEtnn",
        "colab": {
          "base_uri": "https://localhost:8080/"
        },
        "outputId": "3db892ab-ef1d-43be-8c25-59cfb6b1a40c"
      },
      "source": [
        "from collections import Counter\n",
        "Counter(labels)"
      ],
      "execution_count": 19,
      "outputs": [
        {
          "output_type": "execute_result",
          "data": {
            "text/plain": [
              "Counter({0: 800000, 1: 800000})"
            ]
          },
          "metadata": {},
          "execution_count": 19
        }
      ]
    },
    {
      "cell_type": "code",
      "metadata": {
        "id": "8RQyxYKpxgeZ"
      },
      "source": [
        "# build tokenizer\n",
        "# here we will use SubwordTextEncoder which will create token(number) for each word in corpus.\n",
        "# In evaluation if new word comes it will create tokenes base on character or sub word\n",
        "# https://stackoverflow.com/a/58123024 \n",
        "# https://www.tensorflow.org/datasets/api_docs/python/tfds/deprecated/text/SubwordTextEncoder\n",
        "tokenizer = tfds.deprecated.text.SubwordTextEncoder.build_from_corpus(clean_text,target_vocab_size=2**16)"
      ],
      "execution_count": 22,
      "outputs": []
    },
    {
      "cell_type": "code",
      "metadata": {
        "id": "TW0yu0os9MIQ"
      },
      "source": [
        "# we can save tokenizer\n",
        "tokenizer.save_to_file('tokenizer')"
      ],
      "execution_count": 23,
      "outputs": []
    },
    {
      "cell_type": "code",
      "metadata": {
        "id": "I0Ou4l429OX0"
      },
      "source": [
        "# load tokenizer\n",
        "tokenizer = tfds.deprecated.text.SubwordTextEncoder.load_from_file('tokenizer')\n"
      ],
      "execution_count": 24,
      "outputs": []
    },
    {
      "cell_type": "code",
      "metadata": {
        "id": "WzMLS2PgyK6l"
      },
      "source": [
        "text_input = [tokenizer.encode(sentence) for sentence in clean_text]"
      ],
      "execution_count": 25,
      "outputs": []
    },
    {
      "cell_type": "code",
      "metadata": {
        "id": "nDx6BFjh2elT",
        "colab": {
          "base_uri": "https://localhost:8080/"
        },
        "outputId": "4fe294ae-0093-41ed-a312-eaa0179f7bb4"
      },
      "source": [
        "print(clean_text[0])\n",
        "print(text_input[0])"
      ],
      "execution_count": 26,
      "outputs": [
        {
          "output_type": "stream",
          "name": "stdout",
          "text": [
            " Awww that's a bummer. You shoulda got David Carr of Third Day to do it. D\n",
            "[65316, 1570, 113, 65323, 10, 6, 3553, 1, 135, 5262, 50, 1484, 38165, 16, 13337, 606, 2, 49, 33, 1, 65352]\n"
          ]
        }
      ]
    },
    {
      "cell_type": "code",
      "metadata": {
        "id": "a50Zn5nH05xa",
        "colab": {
          "base_uri": "https://localhost:8080/"
        },
        "outputId": "e6616005-653d-47ae-e995-3c9277d078bf"
      },
      "source": [
        "MAX_LEN = max([len(tokenize_sentence) for tokenize_sentence in text_input])\n",
        "MAX_LEN"
      ],
      "execution_count": 27,
      "outputs": [
        {
          "output_type": "execute_result",
          "data": {
            "text/plain": [
              "73"
            ]
          },
          "metadata": {},
          "execution_count": 27
        }
      ]
    },
    {
      "cell_type": "code",
      "metadata": {
        "id": "K9QLq-uv_H1t"
      },
      "source": [
        "# let pad this tokens of sentece to make it equal length (MAX_LEN)\n",
        "# we will pad with 0\n",
        "padded_text_input = tf.keras.preprocessing.sequence.pad_sequences(text_input,maxlen=MAX_LEN,value=0,padding='post',)"
      ],
      "execution_count": 28,
      "outputs": []
    },
    {
      "cell_type": "code",
      "metadata": {
        "id": "KqYM2a1M_LZ7",
        "colab": {
          "base_uri": "https://localhost:8080/"
        },
        "outputId": "930ebd72-7f8b-4d83-875e-46515fd0b6cf"
      },
      "source": [
        "print(\"Tokenizer Sequence : \\n\")\n",
        "print(text_input[0])\n",
        "\n",
        "print(\"\\n\\nPadded Sequence : \\n\")\n",
        "print(padded_text_input[0])"
      ],
      "execution_count": 29,
      "outputs": [
        {
          "output_type": "stream",
          "name": "stdout",
          "text": [
            "Tokenizer Sequence : \n",
            "\n",
            "[65316, 1570, 113, 65323, 10, 6, 3553, 1, 135, 5262, 50, 1484, 38165, 16, 13337, 606, 2, 49, 33, 1, 65352]\n",
            "\n",
            "\n",
            "Padded Sequence : \n",
            "\n",
            "[65316  1570   113 65323    10     6  3553     1   135  5262    50  1484\n",
            " 38165    16 13337   606     2    49    33     1 65352     0     0     0\n",
            "     0     0     0     0     0     0     0     0     0     0     0     0\n",
            "     0     0     0     0     0     0     0     0     0     0     0     0\n",
            "     0     0     0     0     0     0     0     0     0     0     0     0\n",
            "     0     0     0     0     0     0     0     0     0     0     0     0\n",
            "     0]\n"
          ]
        }
      ]
    },
    {
      "cell_type": "markdown",
      "metadata": {
        "id": "zMwGmesXCVFe"
      },
      "source": [
        "# Train Test Split"
      ]
    },
    {
      "cell_type": "code",
      "metadata": {
        "id": "zhR_Z3B0Ayav"
      },
      "source": [
        "X_train, X_test, y_train, y_test = train_test_split(padded_text_input,labels,test_size=0.2)"
      ],
      "execution_count": 30,
      "outputs": []
    },
    {
      "cell_type": "code",
      "metadata": {
        "id": "b6hnjVllDtLv",
        "colab": {
          "base_uri": "https://localhost:8080/"
        },
        "outputId": "4660c4bb-9ad7-4edc-a2bb-6ec90bda2a92"
      },
      "source": [
        "print(\"Training data consists {} examples\".format(len(X_train)))\n",
        "print(\"Testing data consists {} examples\".format(len(X_test)))\n"
      ],
      "execution_count": 31,
      "outputs": [
        {
          "output_type": "stream",
          "name": "stdout",
          "text": [
            "Training data consists 1280000 examples\n",
            "Testing data consists 320000 examples\n"
          ]
        }
      ]
    },
    {
      "cell_type": "code",
      "metadata": {
        "id": "5Bzo_huDPHs9"
      },
      "source": [
        "X_train, X_test, y_train, y_test = np.asarray(X_train), np.asarray(X_test), np.asarray(y_train), np.asarray(y_test)"
      ],
      "execution_count": 32,
      "outputs": []
    },
    {
      "cell_type": "markdown",
      "metadata": {
        "id": "GrXMyZxrEqK6"
      },
      "source": [
        "# Model Creation"
      ]
    },
    {
      "cell_type": "code",
      "metadata": {
        "id": "i2-xT8iUDwP9"
      },
      "source": [
        "class SentimentCNN(tf.keras.Model):\n",
        "\n",
        "  def __init__(self,vocab_size,embedding_dim=128,num_filterS=50,FFN=512,num_classes=2\n",
        "               ,dropout_rate=0.1,training=False,name='sentiment_cnn'):\n",
        "    super(SentimentCNN,self).__init__(name=name)\n",
        "\n",
        "    #define our layers\n",
        "    self.embeddings = tf.keras.layers.Embedding(vocab_size,embedding_dim)\n",
        "\n",
        "    # here we are using Conv1D because we need to convolve only on one axis\n",
        "    self.bigram = tf.keras.layers.Conv1D(filters=num_filterS,kernel_size=2,\n",
        "                                         padding='valid',activation='relu')\n",
        "    self.pool_1  = tf.keras.layers.GlobalAvgPool1D()\n",
        "\n",
        "    self.trigram = tf.keras.layers.Conv1D(filters=num_filterS,kernel_size=3,\n",
        "                                          padding='valid',activation='relu')\n",
        "    self.pool_2  = tf.keras.layers.GlobalAvgPool1D()\n",
        "\n",
        "\n",
        "    self.fourgram = tf.keras.layers.Conv1D(filters=num_filterS,kernel_size=4,\n",
        "                                           padding='valid',activation='relu')\n",
        "    self.pool_3  = tf.keras.layers.GlobalAvgPool1D()\n",
        "\n",
        "    self.dense_1 = tf.keras.layers.Dense(FFN,activation='relu')\n",
        "    self.dropout = tf.keras.layers.Dropout(rate=dropout_rate)\n",
        "\n",
        "    if num_classes == 2:\n",
        "      self.output_layer = tf.keras.layers.Dense(1,activation='sigmoid')\n",
        "    else:\n",
        "      self.output_layer = tf.keras.layers.Dense(num_classes,activation='softmax')\n",
        "\n",
        "  def call(self,input,training):\n",
        "\n",
        "    embeddings = self.embeddings(input)\n",
        "\n",
        "    bigram = self.bigram(embeddings)\n",
        "    bigram_pooled = self.pool_1(bigram)\n",
        "\n",
        "    trigram = self.trigram(embeddings)\n",
        "    trigram_pooled = self.pool_2(trigram)\n",
        "\n",
        "    fourgram = self.fourgram(embeddings)\n",
        "    fourgram_pooled = self.pool_3(fourgram)\n",
        "\n",
        "    merged = tf.concat([bigram_pooled,trigram_pooled,fourgram_pooled],axis=-1) # (batch_size,3*num_filter) 3->because we have bigram trigram and fourgram\n",
        "    merged = self.dense_1(merged)\n",
        "    merged = self.dropout(merged,training)\n",
        "    merged = self.output_layer(merged)\n",
        "\n",
        "    return merged\n",
        "\n",
        "\n",
        "\n"
      ],
      "execution_count": 33,
      "outputs": []
    },
    {
      "cell_type": "markdown",
      "metadata": {
        "id": "3udeVYk7K23O"
      },
      "source": [
        "# Training"
      ]
    },
    {
      "cell_type": "code",
      "metadata": {
        "id": "aBQ5LV12Krk2"
      },
      "source": [
        "VOCAB_SIZE = tokenizer.vocab_size\n",
        "EMBEDDING_SIZE = 256\n",
        "NUM_FILTERS = 64\n",
        "FFN = 512\n",
        "NUM_CLASSES = 2\n",
        "DROPOUT_RATE = 0.2\n",
        "BATCH_SIZE = 64\n",
        "NUM_EPOCH = 5\n"
      ],
      "execution_count": 34,
      "outputs": []
    },
    {
      "cell_type": "code",
      "metadata": {
        "id": "e5EJ3UL7Lj3T"
      },
      "source": [
        "SentimentCnn = SentimentCNN(VOCAB_SIZE,EMBEDDING_SIZE,NUM_FILTERS,FFN,NUM_CLASSES,DROPOUT_RATE)"
      ],
      "execution_count": 35,
      "outputs": []
    },
    {
      "cell_type": "code",
      "metadata": {
        "id": "u6AOKJvEL4Md"
      },
      "source": [
        "SentimentCnn.compile(optimizer='adam',loss='binary_crossentropy',metrics=['accuracy'])"
      ],
      "execution_count": 36,
      "outputs": []
    },
    {
      "cell_type": "code",
      "metadata": {
        "id": "EafF-eKNM21F"
      },
      "source": [
        "callback = tf.keras.callbacks.EarlyStopping(monitor='loss', patience=3)\n",
        "checkpoint_filepath = 'Checkpoint/checkPoints/'\n",
        "model_checkpoint_callback = tf.keras.callbacks.ModelCheckpoint(\n",
        "    filepath=checkpoint_filepath,\n",
        "    save_best_only=True)"
      ],
      "execution_count": 37,
      "outputs": []
    },
    {
      "cell_type": "code",
      "metadata": {
        "id": "oHQtuY-IOTo7",
        "colab": {
          "base_uri": "https://localhost:8080/"
        },
        "outputId": "1e44b410-26ce-43c1-c07a-73bf8f135357"
      },
      "source": [
        "SentimentCnn.fit(X_train,y_train,validation_data=(X_test,y_test),batch_size=BATCH_SIZE,epochs=NUM_EPOCH,callbacks=[callback,model_checkpoint_callback])"
      ],
      "execution_count": 38,
      "outputs": [
        {
          "output_type": "stream",
          "name": "stdout",
          "text": [
            "Epoch 1/5\n",
            "19998/20000 [============================>.] - ETA: 0s - loss: 0.4092 - accuracy: 0.8123"
          ]
        },
        {
          "output_type": "stream",
          "name": "stderr",
          "text": [
            "WARNING:absl:Found untraced functions such as _jit_compiled_convolution_op, _jit_compiled_convolution_op, _jit_compiled_convolution_op while saving (showing 3 of 3). These functions will not be directly callable after loading.\n"
          ]
        },
        {
          "output_type": "stream",
          "name": "stdout",
          "text": [
            "\b\b\b\b\b\b\b\b\b\b\b\b\b\b\b\b\b\b\b\b\b\b\b\b\b\b\b\b\b\b\b\b\b\b\b\b\b\b\b\b\b\b\b\b\b\b\b\b\b\b\b\b\b\b\b\b\b\b\b\b\b\b\b\b\b\b\b\b\b\b\b\b\b\b\b\b\b\b\b\b\b\b\b\b\b\b\b\b\r20000/20000 [==============================] - 290s 14ms/step - loss: 0.4092 - accuracy: 0.8123 - val_loss: 0.3814 - val_accuracy: 0.8285\n",
            "Epoch 2/5\n",
            "19999/20000 [============================>.] - ETA: 0s - loss: 0.3371 - accuracy: 0.8529"
          ]
        },
        {
          "output_type": "stream",
          "name": "stderr",
          "text": [
            "WARNING:absl:Found untraced functions such as _jit_compiled_convolution_op, _jit_compiled_convolution_op, _jit_compiled_convolution_op while saving (showing 3 of 3). These functions will not be directly callable after loading.\n"
          ]
        },
        {
          "output_type": "stream",
          "name": "stdout",
          "text": [
            "\b\b\b\b\b\b\b\b\b\b\b\b\b\b\b\b\b\b\b\b\b\b\b\b\b\b\b\b\b\b\b\b\b\b\b\b\b\b\b\b\b\b\b\b\b\b\b\b\b\b\b\b\b\b\b\b\b\b\b\b\b\b\b\b\b\b\b\b\b\b\b\b\b\b\b\b\b\b\b\b\b\b\b\b\b\b\b\b\r20000/20000 [==============================] - 280s 14ms/step - loss: 0.3371 - accuracy: 0.8529 - val_loss: 0.3789 - val_accuracy: 0.8319\n",
            "Epoch 3/5\n",
            "20000/20000 [==============================] - 278s 14ms/step - loss: 0.2797 - accuracy: 0.8819 - val_loss: 0.4005 - val_accuracy: 0.8263\n",
            "Epoch 4/5\n",
            "20000/20000 [==============================] - 278s 14ms/step - loss: 0.2239 - accuracy: 0.9080 - val_loss: 0.4631 - val_accuracy: 0.8189\n",
            "Epoch 5/5\n",
            "20000/20000 [==============================] - 279s 14ms/step - loss: 0.1779 - accuracy: 0.9282 - val_loss: 0.5825 - val_accuracy: 0.8153\n"
          ]
        },
        {
          "output_type": "execute_result",
          "data": {
            "text/plain": [
              "<keras.callbacks.History at 0x7fe470033a90>"
            ]
          },
          "metadata": {},
          "execution_count": 38
        }
      ]
    },
    {
      "cell_type": "markdown",
      "metadata": {
        "id": "Yex6Bjzi_vlo"
      },
      "source": [
        "# Prediction"
      ]
    },
    {
      "cell_type": "code",
      "metadata": {
        "id": "GzhT67X__u8u",
        "colab": {
          "base_uri": "https://localhost:8080/"
        },
        "outputId": "0bd6d2eb-6354-4fe3-a043-23e742bb326f"
      },
      "source": [
        "SentimentCnn.save('model')"
      ],
      "execution_count": 39,
      "outputs": [
        {
          "output_type": "stream",
          "name": "stderr",
          "text": [
            "WARNING:absl:Found untraced functions such as _jit_compiled_convolution_op, _jit_compiled_convolution_op, _jit_compiled_convolution_op while saving (showing 3 of 3). These functions will not be directly callable after loading.\n"
          ]
        }
      ]
    },
    {
      "cell_type": "code",
      "metadata": {
        "id": "jMcScwHB-w1Y"
      },
      "source": [
        "model = models.load_model('model')"
      ],
      "execution_count": 40,
      "outputs": []
    },
    {
      "cell_type": "code",
      "metadata": {
        "id": "wHsjFYq9-3O9"
      },
      "source": [
        "index_to_sentiment = {0:'negative',1:'positive'}\n",
        "def predict_sentiment(text):\n",
        "  text =  clean_tweets(text)\n",
        "  embedding = tokenizer.encode(text)\n",
        "  embedding = np.expand_dims(embedding,axis=0)\n",
        "  pad_embedding = tf.keras.preprocessing.sequence.pad_sequences(embedding,maxlen=MAX_LEN,value=0,padding='post')\n",
        "  prediction = model.predict(pad_embedding)\n",
        "  \n",
        "  response = {index_to_sentiment[0]:1-prediction[0][0],index_to_sentiment[1]:prediction[0][0]}\n",
        "  return response"
      ],
      "execution_count": 41,
      "outputs": []
    },
    {
      "cell_type": "code",
      "metadata": {
        "id": "yBKii_rtAxP_",
        "colab": {
          "base_uri": "https://localhost:8080/"
        },
        "outputId": "3fcc4e81-2c7f-4d09-ebdf-3a2dc1fbd6db"
      },
      "source": [
        "predict_sentiment('I really like the new design of your website!')"
      ],
      "execution_count": 42,
      "outputs": [
        {
          "output_type": "stream",
          "name": "stdout",
          "text": [
            "1/1 [==============================] - 0s 374ms/step\n"
          ]
        },
        {
          "output_type": "execute_result",
          "data": {
            "text/plain": [
              "{'negative': 2.1338462829589844e-05, 'positive': 0.99997866}"
            ]
          },
          "metadata": {},
          "execution_count": 42
        }
      ]
    },
    {
      "cell_type": "code",
      "metadata": {
        "id": "YSwkV2O5EOgD",
        "colab": {
          "base_uri": "https://localhost:8080/"
        },
        "outputId": "cbb7e701-d779-4e61-b347-c5c9af63ba08"
      },
      "source": [
        "predict_sentiment('The new design is awful!')"
      ],
      "execution_count": 43,
      "outputs": [
        {
          "output_type": "stream",
          "name": "stdout",
          "text": [
            "1/1 [==============================] - 0s 17ms/step\n"
          ]
        },
        {
          "output_type": "execute_result",
          "data": {
            "text/plain": [
              "{'negative': 0.9051162675023079, 'positive': 0.09488373}"
            ]
          },
          "metadata": {},
          "execution_count": 43
        }
      ]
    },
    {
      "cell_type": "code",
      "metadata": {
        "id": "YAB-OydnEVUH",
        "colab": {
          "base_uri": "https://localhost:8080/"
        },
        "outputId": "37f2a497-d317-4f11-e7a3-ff2737c46fc0"
      },
      "source": [
        "predict_sentiment('customer service is irresponsive')"
      ],
      "execution_count": 46,
      "outputs": [
        {
          "output_type": "stream",
          "name": "stdout",
          "text": [
            "1/1 [==============================] - 0s 15ms/step\n"
          ]
        },
        {
          "output_type": "execute_result",
          "data": {
            "text/plain": [
              "{'negative': 0.9998781712783966, 'positive': 0.00012182872}"
            ]
          },
          "metadata": {},
          "execution_count": 46
        }
      ]
    },
    {
      "cell_type": "code",
      "metadata": {
        "id": "Mm1sCfNTEmdW",
        "colab": {
          "base_uri": "https://localhost:8080/"
        },
        "outputId": "e0238ee1-d79c-4b68-b0ef-ca232e052602"
      },
      "source": [
        "predict_sentiment('customer service is very responsible as they will not pickup any call')\n"
      ],
      "execution_count": 47,
      "outputs": [
        {
          "output_type": "stream",
          "name": "stdout",
          "text": [
            "1/1 [==============================] - 0s 15ms/step\n"
          ]
        },
        {
          "output_type": "execute_result",
          "data": {
            "text/plain": [
              "{'negative': 0.9979670867323875, 'positive': 0.0020329133}"
            ]
          },
          "metadata": {},
          "execution_count": 47
        }
      ]
    },
    {
      "cell_type": "code",
      "source": [
        "!zip -r model.zip model"
      ],
      "metadata": {
        "colab": {
          "base_uri": "https://localhost:8080/"
        },
        "id": "CJ0jq7OGKwdT",
        "outputId": "64441749-2a10-4437-8656-8701ca5beab6"
      },
      "execution_count": 48,
      "outputs": [
        {
          "output_type": "stream",
          "name": "stdout",
          "text": [
            "  adding: model/ (stored 0%)\n",
            "  adding: model/assets/ (stored 0%)\n",
            "  adding: model/keras_metadata.pb (deflated 85%)\n",
            "  adding: model/saved_model.pb (deflated 89%)\n",
            "  adding: model/variables/ (stored 0%)\n",
            "  adding: model/variables/variables.data-00000-of-00001 (deflated 15%)\n",
            "  adding: model/variables/variables.index (deflated 67%)\n"
          ]
        }
      ]
    },
    {
      "cell_type": "code",
      "source": [],
      "metadata": {
        "id": "het3Gvy-K8Gy"
      },
      "execution_count": null,
      "outputs": []
    }
  ]
}