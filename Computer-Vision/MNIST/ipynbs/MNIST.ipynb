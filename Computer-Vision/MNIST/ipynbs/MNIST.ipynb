{
  "cells": [
    {
      "cell_type": "markdown",
      "metadata": {
        "id": "Ae_C3d8JHxjF"
      },
      "source": [
        "# Installation"
      ]
    },
    {
      "cell_type": "code",
      "execution_count": 1,
      "metadata": {
        "colab": {
          "base_uri": "https://localhost:8080/"
        },
        "id": "1fKn6nYAHw_N",
        "outputId": "fa582d3d-9922-44e7-875a-fb7a9ef35260"
      },
      "outputs": [
        {
          "output_type": "stream",
          "name": "stdout",
          "text": [
            "Looking in indexes: https://pypi.org/simple, https://us-python.pkg.dev/colab-wheels/public/simple/\n",
            "Collecting idx2numpy\n",
            "  Downloading idx2numpy-1.2.3.tar.gz (6.8 kB)\n",
            "Requirement already satisfied: numpy in /usr/local/lib/python3.7/dist-packages (from idx2numpy) (1.21.6)\n",
            "Requirement already satisfied: six in /usr/local/lib/python3.7/dist-packages (from idx2numpy) (1.15.0)\n",
            "Building wheels for collected packages: idx2numpy\n",
            "  Building wheel for idx2numpy (setup.py) ... \u001b[?25l\u001b[?25hdone\n",
            "  Created wheel for idx2numpy: filename=idx2numpy-1.2.3-py3-none-any.whl size=7917 sha256=b88382d2d9f0eaba21574e0cc613a7db9fdc9c255de5235d305cab7d1145b91b\n",
            "  Stored in directory: /root/.cache/pip/wheels/1a/ce/ad/d5e95a35cfe34149aade5e500f2edd535c0566d79e9a8e1d8a\n",
            "Successfully built idx2numpy\n",
            "Installing collected packages: idx2numpy\n",
            "Successfully installed idx2numpy-1.2.3\n",
            "Looking in indexes: https://pypi.org/simple, https://us-python.pkg.dev/colab-wheels/public/simple/\n",
            "Collecting mlflow\n",
            "  Downloading mlflow-1.30.0-py3-none-any.whl (17.0 MB)\n",
            "\u001b[K     |████████████████████████████████| 17.0 MB 14.3 MB/s \n",
            "\u001b[?25hCollecting databricks-cli<1,>=0.8.7\n",
            "  Downloading databricks-cli-0.17.3.tar.gz (77 kB)\n",
            "\u001b[K     |████████████████████████████████| 77 kB 2.8 MB/s \n",
            "\u001b[?25hRequirement already satisfied: click<9,>=7.0 in /usr/local/lib/python3.7/dist-packages (from mlflow) (7.1.2)\n",
            "Collecting gitpython<4,>=2.1.0\n",
            "  Downloading GitPython-3.1.29-py3-none-any.whl (182 kB)\n",
            "\u001b[K     |████████████████████████████████| 182 kB 16.2 MB/s \n",
            "\u001b[?25hRequirement already satisfied: importlib-metadata!=4.7.0,<6,>=3.7.0 in /usr/local/lib/python3.7/dist-packages (from mlflow) (4.13.0)\n",
            "Collecting gunicorn<21\n",
            "  Downloading gunicorn-20.1.0-py3-none-any.whl (79 kB)\n",
            "\u001b[K     |████████████████████████████████| 79 kB 3.5 MB/s \n",
            "\u001b[?25hRequirement already satisfied: requests<3,>=2.17.3 in /usr/local/lib/python3.7/dist-packages (from mlflow) (2.23.0)\n",
            "Requirement already satisfied: pandas<2 in /usr/local/lib/python3.7/dist-packages (from mlflow) (1.3.5)\n",
            "Requirement already satisfied: Flask<3 in /usr/local/lib/python3.7/dist-packages (from mlflow) (1.1.4)\n",
            "Requirement already satisfied: cloudpickle<3 in /usr/local/lib/python3.7/dist-packages (from mlflow) (1.5.0)\n",
            "Collecting docker<7,>=4.0.0\n",
            "  Downloading docker-6.0.1-py3-none-any.whl (147 kB)\n",
            "\u001b[K     |████████████████████████████████| 147 kB 23.2 MB/s \n",
            "\u001b[?25hCollecting querystring-parser<2\n",
            "  Downloading querystring_parser-1.2.4-py2.py3-none-any.whl (7.9 kB)\n",
            "Collecting prometheus-flask-exporter<1\n",
            "  Downloading prometheus_flask_exporter-0.20.3-py3-none-any.whl (18 kB)\n",
            "Requirement already satisfied: pytz<2023 in /usr/local/lib/python3.7/dist-packages (from mlflow) (2022.5)\n",
            "Requirement already satisfied: sqlparse<1,>=0.4.0 in /usr/local/lib/python3.7/dist-packages (from mlflow) (0.4.3)\n",
            "Requirement already satisfied: entrypoints<1 in /usr/local/lib/python3.7/dist-packages (from mlflow) (0.4)\n",
            "Requirement already satisfied: sqlalchemy<2,>=1.4.0 in /usr/local/lib/python3.7/dist-packages (from mlflow) (1.4.42)\n",
            "Requirement already satisfied: pyyaml<7,>=5.1 in /usr/local/lib/python3.7/dist-packages (from mlflow) (6.0)\n",
            "Requirement already satisfied: protobuf<5,>=3.12.0 in /usr/local/lib/python3.7/dist-packages (from mlflow) (3.17.3)\n",
            "Requirement already satisfied: numpy<2 in /usr/local/lib/python3.7/dist-packages (from mlflow) (1.21.6)\n",
            "Requirement already satisfied: scipy<2 in /usr/local/lib/python3.7/dist-packages (from mlflow) (1.7.3)\n",
            "Requirement already satisfied: packaging<22 in /usr/local/lib/python3.7/dist-packages (from mlflow) (21.3)\n",
            "Collecting alembic<2\n",
            "  Downloading alembic-1.8.1-py3-none-any.whl (209 kB)\n",
            "\u001b[K     |████████████████████████████████| 209 kB 60.8 MB/s \n",
            "\u001b[?25hRequirement already satisfied: importlib-resources in /usr/local/lib/python3.7/dist-packages (from alembic<2->mlflow) (5.10.0)\n",
            "Collecting Mako\n",
            "  Downloading Mako-1.2.3-py3-none-any.whl (78 kB)\n",
            "\u001b[K     |████████████████████████████████| 78 kB 6.4 MB/s \n",
            "\u001b[?25hCollecting pyjwt>=1.7.0\n",
            "  Downloading PyJWT-2.6.0-py3-none-any.whl (20 kB)\n",
            "Requirement already satisfied: oauthlib>=3.1.0 in /usr/local/lib/python3.7/dist-packages (from databricks-cli<1,>=0.8.7->mlflow) (3.2.2)\n",
            "Requirement already satisfied: tabulate>=0.7.7 in /usr/local/lib/python3.7/dist-packages (from databricks-cli<1,>=0.8.7->mlflow) (0.8.10)\n",
            "Requirement already satisfied: six>=1.10.0 in /usr/local/lib/python3.7/dist-packages (from databricks-cli<1,>=0.8.7->mlflow) (1.15.0)\n",
            "Collecting requests<3,>=2.17.3\n",
            "  Downloading requests-2.28.1-py3-none-any.whl (62 kB)\n",
            "\u001b[K     |████████████████████████████████| 62 kB 1.6 MB/s \n",
            "\u001b[?25hCollecting urllib3>=1.26.0\n",
            "  Downloading urllib3-1.26.12-py2.py3-none-any.whl (140 kB)\n",
            "\u001b[K     |████████████████████████████████| 140 kB 80.9 MB/s \n",
            "\u001b[?25hCollecting websocket-client>=0.32.0\n",
            "  Downloading websocket_client-1.4.2-py3-none-any.whl (55 kB)\n",
            "\u001b[K     |████████████████████████████████| 55 kB 2.4 MB/s \n",
            "\u001b[?25hRequirement already satisfied: Werkzeug<2.0,>=0.15 in /usr/local/lib/python3.7/dist-packages (from Flask<3->mlflow) (1.0.1)\n",
            "Requirement already satisfied: itsdangerous<2.0,>=0.24 in /usr/local/lib/python3.7/dist-packages (from Flask<3->mlflow) (1.1.0)\n",
            "Requirement already satisfied: Jinja2<3.0,>=2.10.1 in /usr/local/lib/python3.7/dist-packages (from Flask<3->mlflow) (2.11.3)\n",
            "Collecting gitdb<5,>=4.0.1\n",
            "  Downloading gitdb-4.0.9-py3-none-any.whl (63 kB)\n",
            "\u001b[K     |████████████████████████████████| 63 kB 1.5 MB/s \n",
            "\u001b[?25hRequirement already satisfied: typing-extensions>=3.7.4.3 in /usr/local/lib/python3.7/dist-packages (from gitpython<4,>=2.1.0->mlflow) (4.1.1)\n",
            "Collecting smmap<6,>=3.0.1\n",
            "  Downloading smmap-5.0.0-py3-none-any.whl (24 kB)\n",
            "Requirement already satisfied: setuptools>=3.0 in /usr/local/lib/python3.7/dist-packages (from gunicorn<21->mlflow) (57.4.0)\n",
            "Requirement already satisfied: zipp>=0.5 in /usr/local/lib/python3.7/dist-packages (from importlib-metadata!=4.7.0,<6,>=3.7.0->mlflow) (3.10.0)\n",
            "Requirement already satisfied: MarkupSafe>=0.23 in /usr/local/lib/python3.7/dist-packages (from Jinja2<3.0,>=2.10.1->Flask<3->mlflow) (2.0.1)\n",
            "Requirement already satisfied: pyparsing!=3.0.5,>=2.0.2 in /usr/local/lib/python3.7/dist-packages (from packaging<22->mlflow) (3.0.9)\n",
            "Requirement already satisfied: python-dateutil>=2.7.3 in /usr/local/lib/python3.7/dist-packages (from pandas<2->mlflow) (2.8.2)\n",
            "Collecting prometheus-client\n",
            "  Downloading prometheus_client-0.15.0-py3-none-any.whl (60 kB)\n",
            "\u001b[K     |████████████████████████████████| 60 kB 4.8 MB/s \n",
            "\u001b[?25hRequirement already satisfied: certifi>=2017.4.17 in /usr/local/lib/python3.7/dist-packages (from requests<3,>=2.17.3->mlflow) (2022.9.24)\n",
            "Requirement already satisfied: idna<4,>=2.5 in /usr/local/lib/python3.7/dist-packages (from requests<3,>=2.17.3->mlflow) (2.10)\n",
            "Requirement already satisfied: charset-normalizer<3,>=2 in /usr/local/lib/python3.7/dist-packages (from requests<3,>=2.17.3->mlflow) (2.1.1)\n",
            "Requirement already satisfied: greenlet!=0.4.17 in /usr/local/lib/python3.7/dist-packages (from sqlalchemy<2,>=1.4.0->mlflow) (1.1.3.post0)\n",
            "Building wheels for collected packages: databricks-cli\n",
            "  Building wheel for databricks-cli (setup.py) ... \u001b[?25l\u001b[?25hdone\n",
            "  Created wheel for databricks-cli: filename=databricks_cli-0.17.3-py3-none-any.whl size=139102 sha256=2f6c3e9efa80625c9097cc2e17cc68cb5f4c53751dd8ccba2a3caf26b217f5bc\n",
            "  Stored in directory: /root/.cache/pip/wheels/3f/73/87/c1e4b2145eb6049bb6c9aaf7ea1e38302b77ca219b6fef5d5c\n",
            "Successfully built databricks-cli\n",
            "Installing collected packages: urllib3, smmap, websocket-client, requests, pyjwt, prometheus-client, Mako, gitdb, querystring-parser, prometheus-flask-exporter, gunicorn, gitpython, docker, databricks-cli, alembic, mlflow\n",
            "  Attempting uninstall: urllib3\n",
            "    Found existing installation: urllib3 1.24.3\n",
            "    Uninstalling urllib3-1.24.3:\n",
            "      Successfully uninstalled urllib3-1.24.3\n",
            "  Attempting uninstall: requests\n",
            "    Found existing installation: requests 2.23.0\n",
            "    Uninstalling requests-2.23.0:\n",
            "      Successfully uninstalled requests-2.23.0\n",
            "Successfully installed Mako-1.2.3 alembic-1.8.1 databricks-cli-0.17.3 docker-6.0.1 gitdb-4.0.9 gitpython-3.1.29 gunicorn-20.1.0 mlflow-1.30.0 prometheus-client-0.15.0 prometheus-flask-exporter-0.20.3 pyjwt-2.6.0 querystring-parser-1.2.4 requests-2.28.1 smmap-5.0.0 urllib3-1.26.12 websocket-client-1.4.2\n"
          ]
        }
      ],
      "source": [
        "!pip install idx2numpy\n",
        "!pip install mlflow\n"
      ]
    },
    {
      "cell_type": "markdown",
      "metadata": {
        "id": "wSBPjWM3FkTu"
      },
      "source": [
        "# Download Dataset"
      ]
    },
    {
      "cell_type": "code",
      "execution_count": 2,
      "metadata": {
        "colab": {
          "base_uri": "https://localhost:8080/"
        },
        "id": "oYpqYhNLFRpr",
        "outputId": "c55bcb47-2730-48fb-9cb8-9c278d2ba9ad"
      },
      "outputs": [
        {
          "output_type": "stream",
          "name": "stdout",
          "text": [
            "--2022-11-06 06:50:53--  http://yann.lecun.com/exdb/mnist/train-images-idx3-ubyte.gz\n",
            "Resolving yann.lecun.com (yann.lecun.com)... 172.67.171.76, 104.21.29.36, 2606:4700:3036::ac43:ab4c, ...\n",
            "Connecting to yann.lecun.com (yann.lecun.com)|172.67.171.76|:80... connected.\n",
            "HTTP request sent, awaiting response... 200 OK\n",
            "Length: 9912422 (9.5M) [application/x-gzip]\n",
            "Saving to: ‘train-images-idx3-ubyte.gz’\n",
            "\n",
            "\r          train-ima   0%[                    ]       0  --.-KB/s               \rtrain-images-idx3-u 100%[===================>]   9.45M  --.-KB/s    in 0.04s   \n",
            "\n",
            "2022-11-06 06:50:53 (247 MB/s) - ‘train-images-idx3-ubyte.gz’ saved [9912422/9912422]\n",
            "\n",
            "--2022-11-06 06:50:53--  http://yann.lecun.com/exdb/mnist/train-labels-idx1-ubyte.gz\n",
            "Resolving yann.lecun.com (yann.lecun.com)... 172.67.171.76, 104.21.29.36, 2606:4700:3036::ac43:ab4c, ...\n",
            "Connecting to yann.lecun.com (yann.lecun.com)|172.67.171.76|:80... connected.\n",
            "HTTP request sent, awaiting response... 200 OK\n",
            "Length: 28881 (28K) [application/x-gzip]\n",
            "Saving to: ‘train-labels-idx1-ubyte.gz’\n",
            "\n",
            "train-labels-idx1-u 100%[===================>]  28.20K  --.-KB/s    in 0s      \n",
            "\n",
            "2022-11-06 06:50:53 (307 MB/s) - ‘train-labels-idx1-ubyte.gz’ saved [28881/28881]\n",
            "\n",
            "--2022-11-06 06:50:54--  http://yann.lecun.com/exdb/mnist/t10k-images-idx3-ubyte.gz\n",
            "Resolving yann.lecun.com (yann.lecun.com)... 172.67.171.76, 104.21.29.36, 2606:4700:3036::ac43:ab4c, ...\n",
            "Connecting to yann.lecun.com (yann.lecun.com)|172.67.171.76|:80... connected.\n",
            "HTTP request sent, awaiting response... 200 OK\n",
            "Length: 1648877 (1.6M) [application/x-gzip]\n",
            "Saving to: ‘t10k-images-idx3-ubyte.gz’\n",
            "\n",
            "t10k-images-idx3-ub 100%[===================>]   1.57M  --.-KB/s    in 0.02s   \n",
            "\n",
            "2022-11-06 06:50:54 (102 MB/s) - ‘t10k-images-idx3-ubyte.gz’ saved [1648877/1648877]\n",
            "\n",
            "--2022-11-06 06:50:54--  http://yann.lecun.com/exdb/mnist/t10k-labels-idx1-ubyte.gz\n",
            "Resolving yann.lecun.com (yann.lecun.com)... 172.67.171.76, 104.21.29.36, 2606:4700:3036::ac43:ab4c, ...\n",
            "Connecting to yann.lecun.com (yann.lecun.com)|172.67.171.76|:80... connected.\n",
            "HTTP request sent, awaiting response... 200 OK\n",
            "Length: 4542 (4.4K) [application/x-gzip]\n",
            "Saving to: ‘t10k-labels-idx1-ubyte.gz’\n",
            "\n",
            "t10k-labels-idx1-ub 100%[===================>]   4.44K  --.-KB/s    in 0s      \n",
            "\n",
            "2022-11-06 06:50:54 (403 MB/s) - ‘t10k-labels-idx1-ubyte.gz’ saved [4542/4542]\n",
            "\n"
          ]
        }
      ],
      "source": [
        "!wget http://yann.lecun.com/exdb/mnist/train-images-idx3-ubyte.gz\n",
        "!wget http://yann.lecun.com/exdb/mnist/train-labels-idx1-ubyte.gz\n",
        "!wget http://yann.lecun.com/exdb/mnist/t10k-images-idx3-ubyte.gz\n",
        "!wget http://yann.lecun.com/exdb/mnist/t10k-labels-idx1-ubyte.gz"
      ]
    },
    {
      "cell_type": "code",
      "execution_count": 3,
      "metadata": {
        "id": "Jugu7sqPHTfE"
      },
      "outputs": [],
      "source": [
        "!gzip -d train-images-idx3-ubyte.gz\n",
        "!gzip -d train-labels-idx1-ubyte.gz\n",
        "!gzip -d t10k-images-idx3-ubyte.gz\n",
        "!gzip -d t10k-labels-idx1-ubyte.gz"
      ]
    },
    {
      "cell_type": "markdown",
      "metadata": {
        "id": "3uGkuVKNH6rB"
      },
      "source": [
        "# Imports"
      ]
    },
    {
      "cell_type": "code",
      "execution_count": 4,
      "metadata": {
        "id": "cQ5R9kQwH6VT"
      },
      "outputs": [],
      "source": [
        "import idx2numpy\n",
        "import numpy as np\n",
        "import matplotlib.pyplot as plt\n",
        "from sklearn.model_selection import RandomizedSearchCV\n",
        "from sklearn.linear_model import LogisticRegression\n",
        "from sklearn.svm import SVC\n",
        "from sklearn.tree import DecisionTreeClassifier\n",
        "from sklearn.ensemble import RandomForestClassifier, GradientBoostingClassifier\n",
        "from sklearn.metrics import confusion_matrix, classification_report,plot_confusion_matrix\n",
        "\n",
        "import os\n",
        "import tensorflow as tf\n",
        "from tensorflow.keras.layers import Dense,BatchNormalization,Dropout,Conv2D,MaxPooling2D,Flatten\n",
        "import pickle\n",
        "import mlflow\n",
        "import mlflow.sklearn\n",
        "\n",
        "import warnings\n",
        "warnings.filterwarnings('ignore')"
      ]
    },
    {
      "cell_type": "markdown",
      "metadata": {
        "id": "ZtUpYFCOGXN3"
      },
      "source": [
        "#Load Data"
      ]
    },
    {
      "cell_type": "markdown",
      "metadata": {
        "id": "vuQ7veQnJbja"
      },
      "source": [
        "- References :\n",
        "> http://yann.lecun.com/exdb/mnist/ <br>\n",
        "> https://stackoverflow.com/a/55504575\n"
      ]
    },
    {
      "cell_type": "code",
      "execution_count": 5,
      "metadata": {
        "id": "3u5Jq9-QF5UF"
      },
      "outputs": [],
      "source": [
        "# http://yann.lecun.com/exdb/mnist/\n",
        "# https://stackoverflow.com/a/55504575\n",
        "\n",
        "train_X_filepath = \"train-images-idx3-ubyte\"\n",
        "train_y_filepath = \"train-labels-idx1-ubyte\"\n",
        "test_x_filepath = \"t10k-images-idx3-ubyte\"\n",
        "test_y_filepath = \"t10k-labels-idx1-ubyte\"\n",
        "\n",
        "\n",
        "train_x = idx2numpy.convert_from_file(train_X_filepath)\n",
        "train_y = idx2numpy.convert_from_file(train_y_filepath)\n",
        "\n",
        "test_x = idx2numpy.convert_from_file(test_x_filepath)\n",
        "test_y = idx2numpy.convert_from_file(test_y_filepath)"
      ]
    },
    {
      "cell_type": "code",
      "execution_count": 6,
      "metadata": {
        "colab": {
          "base_uri": "https://localhost:8080/",
          "height": 298
        },
        "id": "vyT9uHzgHvHI",
        "outputId": "cec04a18-dfc0-44e0-8243-c6ae1cea9552"
      },
      "outputs": [
        {
          "output_type": "execute_result",
          "data": {
            "text/plain": [
              "<matplotlib.image.AxesImage at 0x7fc18a960450>"
            ]
          },
          "metadata": {},
          "execution_count": 6
        },
        {
          "output_type": "display_data",
          "data": {
            "text/plain": [
              "<Figure size 432x288 with 1 Axes>"
            ],
            "image/png": "[encoded data removed]"
          },
          "metadata": {
            "needs_background": "light"
          }
        }
      ],
      "source": [
        "plt.title(\"Digit : {}\".format(train_y[0]))\n",
        "plt.imshow(train_x[0],cmap=\"gray\")"
      ]
    },
    {
      "cell_type": "code",
      "execution_count": 7,
      "metadata": {
        "colab": {
          "base_uri": "https://localhost:8080/",
          "height": 298
        },
        "id": "zLVjl9rlI_NV",
        "outputId": "80fb9c8e-4094-499f-f687-fcb8c3ab046d"
      },
      "outputs": [
        {
          "output_type": "execute_result",
          "data": {
            "text/plain": [
              "<matplotlib.image.AxesImage at 0x7fc18a8db690>"
            ]
          },
          "metadata": {},
          "execution_count": 7
        },
        {
          "output_type": "display_data",
          "data": {
            "text/plain": [
              "<Figure size 432x288 with 1 Axes>"
            ],
            "image/png": "[encoded data removed]"
          },
          "metadata": {
            "needs_background": "light"
          }
        }
      ],
      "source": [
        "plt.title(\"Digit : {}\".format(test_y[0]))\n",
        "plt.imshow(test_x[0],cmap=\"gray\")"
      ]
    },
    {
      "cell_type": "markdown",
      "metadata": {
        "id": "7q0gaZsAK5md"
      },
      "source": [
        "# EDA and Preprocessing"
      ]
    },
    {
      "cell_type": "code",
      "execution_count": 8,
      "metadata": {
        "colab": {
          "base_uri": "https://localhost:8080/"
        },
        "id": "Wp_Y_IZKWk2T",
        "outputId": "ed14d566-eadd-4963-b6a1-51340e19dd9f"
      },
      "outputs": [
        {
          "output_type": "stream",
          "name": "stdout",
          "text": [
            "train_x shape :  (60000, 28, 28)\n",
            "test_x shape :  (10000, 28, 28)\n"
          ]
        }
      ],
      "source": [
        "print(\"train_x shape : \",train_x.shape)\n",
        "print(\"test_x shape : \",test_x.shape)"
      ]
    },
    {
      "cell_type": "markdown",
      "metadata": {
        "id": "VFjxnGYNWshJ"
      },
      "source": [
        "- Each image contains shape of 28 x 28\n",
        "- For training we have 60000 images and for testing we have 10000 images"
      ]
    },
    {
      "cell_type": "code",
      "execution_count": 9,
      "metadata": {
        "colab": {
          "base_uri": "https://localhost:8080/"
        },
        "id": "ibDOFZwTKftu",
        "outputId": "63d339c6-4058-4636-ad14-75d79f8165c6"
      },
      "outputs": [
        {
          "output_type": "stream",
          "name": "stdout",
          "text": [
            "Training data\n",
            "\n",
            "Number \t Counts \t % of data\n",
            "0 \t 5923 \t 9.87\n",
            "1 \t 6742 \t 11.24\n",
            "2 \t 5958 \t 9.93\n",
            "3 \t 6131 \t 10.22\n",
            "4 \t 5842 \t 9.74\n",
            "5 \t 5421 \t 9.04\n",
            "6 \t 5918 \t 9.86\n",
            "7 \t 6265 \t 10.440000000000001\n",
            "8 \t 5851 \t 9.75\n",
            "9 \t 5949 \t 9.92\n"
          ]
        }
      ],
      "source": [
        "unique, counts = np.unique(train_y, return_counts=True)\n",
        "\n",
        "total_training_samples = train_y.shape[0]\n",
        "print(\"Training data\\n\")\n",
        "print(\"{} \\t {} \\t {}\".format(\"Number\",\"Counts\", \"% of data\"))\n",
        "for k,v in zip(unique,counts):\n",
        "    print(\"{} \\t {} \\t {}\".format(k,v,round(v/total_training_samples,4)*100))\n"
      ]
    },
    {
      "cell_type": "code",
      "execution_count": 10,
      "metadata": {
        "colab": {
          "base_uri": "https://localhost:8080/"
        },
        "id": "UOV5PVS4KYRv",
        "outputId": "97a782fe-208a-490d-e991-d341c7906812"
      },
      "outputs": [
        {
          "output_type": "stream",
          "name": "stdout",
          "text": [
            "Testing data\n",
            "\n",
            "Number \t Counts \t % of data\n",
            "0 \t 980 \t 9.8\n",
            "1 \t 1135 \t 11.35\n",
            "2 \t 1032 \t 10.32\n",
            "3 \t 1010 \t 10.100000000000001\n",
            "4 \t 982 \t 9.82\n",
            "5 \t 892 \t 8.92\n",
            "6 \t 958 \t 9.58\n",
            "7 \t 1028 \t 10.280000000000001\n",
            "8 \t 974 \t 9.74\n",
            "9 \t 1009 \t 10.09\n"
          ]
        }
      ],
      "source": [
        "unique, counts = np.unique(test_y, return_counts=True)\n",
        "\n",
        "total_training_samples = test_y.shape[0]\n",
        "print(\"Testing data\\n\")\n",
        "print(\"{} \\t {} \\t {}\".format(\"Number\",\"Counts\", \"% of data\"))\n",
        "for k,v in zip(unique,counts):\n",
        "    print(\"{} \\t {} \\t {}\".format(k,v,round(v/total_training_samples,4)*100))\n"
      ]
    },
    {
      "cell_type": "markdown",
      "metadata": {
        "id": "cMCHjJE3Ncc0"
      },
      "source": [
        "- - Here we can see that training and testing datasets are almost balanced for all classes"
      ]
    },
    {
      "cell_type": "code",
      "execution_count": 11,
      "metadata": {
        "colab": {
          "base_uri": "https://localhost:8080/"
        },
        "id": "TvjYlnqXMVRr",
        "outputId": "2721edf9-f856-4fb6-c60a-a2d947f8f0f5"
      },
      "outputs": [
        {
          "output_type": "stream",
          "name": "stdout",
          "text": [
            "max pixel value :  255\n",
            "min pixel value :  0\n"
          ]
        }
      ],
      "source": [
        "print(\"max pixel value : \",train_x[0].max())\n",
        "print(\"min pixel value : \",train_x[0].min())"
      ]
    },
    {
      "cell_type": "markdown",
      "metadata": {
        "id": "fzpSqWs6V3WY"
      },
      "source": [
        "- Max value is 255 and min value is 0, let normalize all values between o and 1"
      ]
    },
    {
      "cell_type": "code",
      "execution_count": 12,
      "metadata": {
        "id": "fA64fUgGV1mI"
      },
      "outputs": [],
      "source": [
        "# normalize all pixel values between 0 and 1\n",
        "train_x =  train_x/255.\n",
        "test_x =  test_x/255."
      ]
    },
    {
      "cell_type": "markdown",
      "metadata": {
        "id": "yKNQDhjMW7cj"
      },
      "source": [
        "# Modeling"
      ]
    },
    {
      "cell_type": "markdown",
      "metadata": {
        "id": "1qs6kTEzW9Nj"
      },
      "source": [
        "## Machine Learning"
      ]
    },
    {
      "cell_type": "code",
      "execution_count": 13,
      "metadata": {
        "id": "r2Wp3nq4cJTo"
      },
      "outputs": [],
      "source": [
        "train_x_flatten = train_x.reshape(-1,28*28)\n",
        "test_x_flatten = test_x.reshape(-1,28*28)"
      ]
    },
    {
      "cell_type": "code",
      "execution_count": null,
      "metadata": {
        "id": "sBC6ULgvqt6h"
      },
      "outputs": [],
      "source": [
        "def train_model_with_mlflow(experiment_name,\n",
        "                            model,\n",
        "                            grid_parameters,\n",
        "                            train_x,\n",
        "                            train_y,\n",
        "                            test_x,\n",
        "                            test_y,\n",
        "                            scoring = 'accuracy',\n",
        "                            cv=3):\n",
        "\n",
        "    with mlflow.start_run():\n",
        "\n",
        "        mlflow.set_experiment(experiment_name)\n",
        "\n",
        "        random_search = RandomizedSearchCV(estimator = model ,  \n",
        "                                param_distributions = grid_parameters,\n",
        "                                scoring = scoring,\n",
        "                                cv = cv,\n",
        "                                verbose=0\n",
        "                                )\n",
        "\n",
        "\n",
        "        random_search.fit(train_x, train_y)\n",
        "\n",
        "        print(\"best searched parameter : \\n{}\".format(random_search.best_params_))\n",
        "\n",
        "        train_y_pred = random_search.best_estimator_.predict(train_x)\n",
        "        test_y_pred = random_search.best_estimator_.predict(test_x)\n",
        "    \n",
        "        train_classification_report = classification_report(train_y,train_y_pred)\n",
        "        train_classification_report_dict = classification_report(train_y,train_y_pred,output_dict=True)\n",
        "\n",
        "        test_classification_report = classification_report(test_y,test_y_pred)\n",
        "        test_classification_report_dict = classification_report(test_y,test_y_pred,output_dict=True)\n",
        "\n",
        "\n",
        "        print(\"Train classification report : \\n\")\n",
        "        print(train_classification_report)\n",
        "\n",
        "        print(\"\\nTest classification report : \\n\")\n",
        "        print(test_classification_report)\n",
        "\n",
        "        # save confusion matrix image\n",
        "        cfm_plot = plot_confusion_matrix( random_search.best_estimator_,train_x,train_y)\n",
        "        cfm_plot.figure_.savefig(\"confustion_matrix_train_data.png\",dpi=300)\n",
        "\n",
        "        mlflow.log_dict(train_classification_report_dict,\"classification report_training.json\")\n",
        "        mlflow.log_dict(test_classification_report_dict,\"classification report_testing.json\")\n",
        "        mlflow.log_dict(random_search.best_params_,\"best_searched_parameters.json\")\n",
        "        mlflow.log_artifact(\"confustion_matrix_train_data.png\")\n",
        "        mlflow.sklearn.log_model(random_search.best_estimator_, experiment_name)\n",
        "\n"
      ]
    },
    {
      "cell_type": "markdown",
      "metadata": {
        "id": "-VEY7gXmaZP0"
      },
      "source": [
        "###Logistic Regression"
      ]
    },
    {
      "cell_type": "code",
      "execution_count": null,
      "metadata": {
        "colab": {
          "base_uri": "https://localhost:8080/",
          "height": 1000
        },
        "id": "SitMOgwmWgO-",
        "outputId": "088feddf-2ab8-4d80-9b14-d8d3458aa052"
      },
      "outputs": [
        {
          "output_type": "stream",
          "name": "stderr",
          "text": [
            "2022/10/30 05:54:03 INFO mlflow.tracking.fluent: Experiment with name 'Logistic Regression MNIST' does not exist. Creating a new experiment.\n"
          ]
        },
        {
          "output_type": "stream",
          "name": "stdout",
          "text": [
            "best searched parameter : \n",
            "{'C': 0.1}\n",
            "Train classification report : \n",
            "\n",
            "              precision    recall  f1-score   support\n",
            "\n",
            "           0       0.97      0.97      0.97      5923\n",
            "           1       0.95      0.98      0.96      6742\n",
            "           2       0.93      0.91      0.92      5958\n",
            "           3       0.92      0.90      0.91      6131\n",
            "           4       0.93      0.94      0.94      5842\n",
            "           5       0.90      0.89      0.90      5421\n",
            "           6       0.95      0.96      0.96      5918\n",
            "           7       0.94      0.94      0.94      6265\n",
            "           8       0.91      0.89      0.90      5851\n",
            "           9       0.91      0.91      0.91      5949\n",
            "\n",
            "    accuracy                           0.93     60000\n",
            "   macro avg       0.93      0.93      0.93     60000\n",
            "weighted avg       0.93      0.93      0.93     60000\n",
            "\n",
            "\n",
            "Test classification report : \n",
            "\n",
            "              precision    recall  f1-score   support\n",
            "\n",
            "           0       0.95      0.98      0.96       980\n",
            "           1       0.96      0.98      0.97      1135\n",
            "           2       0.93      0.90      0.91      1032\n",
            "           3       0.91      0.91      0.91      1010\n",
            "           4       0.93      0.94      0.93       982\n",
            "           5       0.91      0.87      0.89       892\n",
            "           6       0.94      0.95      0.94       958\n",
            "           7       0.93      0.92      0.93      1028\n",
            "           8       0.88      0.89      0.88       974\n",
            "           9       0.91      0.91      0.91      1009\n",
            "\n",
            "    accuracy                           0.93     10000\n",
            "   macro avg       0.92      0.92      0.92     10000\n",
            "weighted avg       0.93      0.93      0.93     10000\n",
            "\n"
          ]
        },
        {
          "output_type": "display_data",
          "data": {
            "text/plain": [
              "<Figure size 432x288 with 2 Axes>"
            ],
            "image/png": "[encoded data removed]"
          },
          "metadata": {
            "needs_background": "light"
          }
        }
      ],
      "source": [
        "LR = LogisticRegression()\n",
        "\n",
        "lr_parameters = [{'penalty':['l1', 'l2']},\n",
        "                    {'C':[0.01, 0.1, 1, 10, 100]},\n",
        "                    {'solver':['liblinear']}]\n",
        "\n",
        "experiment_name = \"Logistic Regression MNIST\"\n",
        "lr_model = train_model_with_mlflow(experiment_name,\n",
        "                                   LR,\n",
        "                                   lr_parameters,\n",
        "                                   train_x_flatten,\n",
        "                                   train_y,\n",
        "                                   test_x_flatten,\n",
        "                                   test_y\n",
        "                                   )"
      ]
    },
    {
      "cell_type": "code",
      "source": [
        "filename = 'MNIST_Logistic_Regression.sav'\n",
        "pickle.dump(lr_model, open(filename, 'wb'))\n",
        " "
      ],
      "metadata": {
        "id": "8QxCQRlez4T1"
      },
      "execution_count": null,
      "outputs": []
    },
    {
      "cell_type": "markdown",
      "metadata": {
        "id": "clsk97TJa0Np"
      },
      "source": [
        "### Decision Tree"
      ]
    },
    {
      "cell_type": "code",
      "execution_count": null,
      "metadata": {
        "id": "Ia9jF-gDqCYd",
        "colab": {
          "base_uri": "https://localhost:8080/",
          "height": 1000
        },
        "outputId": "93cc444b-0585-40e1-fba1-5e98357e3dc2"
      },
      "outputs": [
        {
          "output_type": "stream",
          "name": "stderr",
          "text": [
            "2022/10/30 06:09:00 INFO mlflow.tracking.fluent: Experiment with name 'Decision Tree Classifier MNIST' does not exist. Creating a new experiment.\n"
          ]
        },
        {
          "output_type": "stream",
          "name": "stdout",
          "text": [
            "best searched parameter : \n",
            "{'max_depth': 16, 'criterion': 'gini'}\n",
            "Train classification report : \n",
            "\n",
            "              precision    recall  f1-score   support\n",
            "\n",
            "           0       0.99      1.00      0.99      5923\n",
            "           1       0.99      1.00      0.99      6742\n",
            "           2       0.99      0.99      0.99      5958\n",
            "           3       0.99      0.98      0.99      6131\n",
            "           4       0.98      0.99      0.99      5842\n",
            "           5       0.99      0.99      0.99      5421\n",
            "           6       1.00      0.99      0.99      5918\n",
            "           7       0.98      0.99      0.99      6265\n",
            "           8       0.99      0.98      0.99      5851\n",
            "           9       0.97      0.98      0.98      5949\n",
            "\n",
            "    accuracy                           0.99     60000\n",
            "   macro avg       0.99      0.99      0.99     60000\n",
            "weighted avg       0.99      0.99      0.99     60000\n",
            "\n",
            "\n",
            "Test classification report : \n",
            "\n",
            "              precision    recall  f1-score   support\n",
            "\n",
            "           0       0.91      0.95      0.93       980\n",
            "           1       0.95      0.97      0.96      1135\n",
            "           2       0.88      0.86      0.87      1032\n",
            "           3       0.85      0.84      0.85      1010\n",
            "           4       0.88      0.89      0.88       982\n",
            "           5       0.84      0.84      0.84       892\n",
            "           6       0.89      0.88      0.89       958\n",
            "           7       0.91      0.91      0.91      1028\n",
            "           8       0.83      0.80      0.81       974\n",
            "           9       0.85      0.87      0.86      1009\n",
            "\n",
            "    accuracy                           0.88     10000\n",
            "   macro avg       0.88      0.88      0.88     10000\n",
            "weighted avg       0.88      0.88      0.88     10000\n",
            "\n"
          ]
        },
        {
          "output_type": "display_data",
          "data": {
            "text/plain": [
              "<Figure size 432x288 with 2 Axes>"
            ],
            "image/png": "[encoded data removed]"
          },
          "metadata": {
            "needs_background": "light"
          }
        }
      ],
      "source": [
        "dt = DecisionTreeClassifier()\n",
        "experiment_name = \"Decision Tree Classifier MNIST\"\n",
        "dt_parameters = {\"criterion\" : ['gini'],\n",
        "                 \"max_depth\" : [2,4,6,8,10,12,14,16,18]\n",
        "                  } \n",
        "\n",
        "dt_model = train_model_with_mlflow(experiment_name,\n",
        "                                    dt,\n",
        "                                    dt_parameters,\n",
        "                                    train_x_flatten,\n",
        "                                    train_y,\n",
        "                                    test_x_flatten,\n",
        "                                    test_y,\n",
        "                                    )"
      ]
    },
    {
      "cell_type": "code",
      "source": [
        "filename = 'MNIST_Decision_Tree.sav'\n",
        "pickle.dump(dt_model, open(filename, 'wb'))"
      ],
      "metadata": {
        "id": "wyWDoJJR1SC9"
      },
      "execution_count": null,
      "outputs": []
    },
    {
      "cell_type": "markdown",
      "metadata": {
        "id": "xsJ4PTlAgQcC"
      },
      "source": [
        "### Random Forest"
      ]
    },
    {
      "cell_type": "code",
      "execution_count": null,
      "metadata": {
        "id": "wk0LYJ4jqCWL",
        "colab": {
          "base_uri": "https://localhost:8080/",
          "height": 1000
        },
        "outputId": "a73daae0-4b53-40c9-dfff-f0ab1921d83c"
      },
      "outputs": [
        {
          "output_type": "stream",
          "name": "stderr",
          "text": [
            "2022/10/30 06:13:12 INFO mlflow.tracking.fluent: Experiment with name 'Random Forest Classifier MNIST' does not exist. Creating a new experiment.\n"
          ]
        },
        {
          "output_type": "stream",
          "name": "stdout",
          "text": [
            "best searched parameter : \n",
            "{'n_estimators': 800, 'max_depth': 50}\n",
            "Train classification report : \n",
            "\n",
            "              precision    recall  f1-score   support\n",
            "\n",
            "           0       1.00      1.00      1.00      5923\n",
            "           1       1.00      1.00      1.00      6742\n",
            "           2       1.00      1.00      1.00      5958\n",
            "           3       1.00      1.00      1.00      6131\n",
            "           4       1.00      1.00      1.00      5842\n",
            "           5       1.00      1.00      1.00      5421\n",
            "           6       1.00      1.00      1.00      5918\n",
            "           7       1.00      1.00      1.00      6265\n",
            "           8       1.00      1.00      1.00      5851\n",
            "           9       1.00      1.00      1.00      5949\n",
            "\n",
            "    accuracy                           1.00     60000\n",
            "   macro avg       1.00      1.00      1.00     60000\n",
            "weighted avg       1.00      1.00      1.00     60000\n",
            "\n",
            "\n",
            "Test classification report : \n",
            "\n",
            "              precision    recall  f1-score   support\n",
            "\n",
            "           0       0.97      0.99      0.98       980\n",
            "           1       0.99      0.99      0.99      1135\n",
            "           2       0.96      0.97      0.97      1032\n",
            "           3       0.96      0.97      0.96      1010\n",
            "           4       0.98      0.97      0.97       982\n",
            "           5       0.98      0.97      0.97       892\n",
            "           6       0.98      0.98      0.98       958\n",
            "           7       0.97      0.96      0.97      1028\n",
            "           8       0.96      0.95      0.96       974\n",
            "           9       0.96      0.95      0.95      1009\n",
            "\n",
            "    accuracy                           0.97     10000\n",
            "   macro avg       0.97      0.97      0.97     10000\n",
            "weighted avg       0.97      0.97      0.97     10000\n",
            "\n"
          ]
        },
        {
          "output_type": "display_data",
          "data": {
            "text/plain": [
              "<Figure size 432x288 with 2 Axes>"
            ],
            "image/png": "[encoded data removed]"
          },
          "metadata": {
            "needs_background": "light"
          }
        }
      ],
      "source": [
        "rf = RandomForestClassifier()\n",
        "\n",
        "experiment_name = \"Random Forest Classifier MNIST\"\n",
        "rf_parameters={ 'max_depth': [10, 20, 30, 40, 50, None],\n",
        "                'n_estimators': [50,200, 400, 600, 800]\n",
        "               }\n",
        "\n",
        "rf_model = train_model_with_mlflow(experiment_name,\n",
        "                                    rf,\n",
        "                                    rf_parameters,\n",
        "                                    train_x_flatten,\n",
        "                                    train_y,\n",
        "                                    test_x_flatten,\n",
        "                                    test_y,\n",
        "                                    )"
      ]
    },
    {
      "cell_type": "code",
      "source": [
        "filename = 'MNIST_Random_Forest.sav'\n",
        "pickle.dump(rf_model, open(filename, 'wb'))"
      ],
      "metadata": {
        "id": "0kejU3h11Yso"
      },
      "execution_count": null,
      "outputs": []
    },
    {
      "cell_type": "markdown",
      "source": [
        "## Deep Learning"
      ],
      "metadata": {
        "id": "yaXKrr67bv9p"
      }
    },
    {
      "cell_type": "markdown",
      "source": [
        "### ANN"
      ],
      "metadata": {
        "id": "5JH49TXlcNBe"
      }
    },
    {
      "cell_type": "code",
      "source": [
        "model_save_folder = \"ANN_MNIST\"\n",
        "\n",
        "mnist_ann_model = tf.keras.Sequential(\n",
        "                    [\n",
        "                        Dense(128, activation='relu', input_shape=(784,)),\n",
        "                        Dense(24, activation='relu'),\n",
        "                        Dropout(0.3),\n",
        "                        BatchNormalization(),\n",
        "                        Dense(24, activation='relu'),\n",
        "                        Dropout(0.3),\n",
        "                        BatchNormalization(),\n",
        "                        Dense(10,activation='softmax')\n",
        "                    ])\n",
        "\n",
        "#Compiling the model\n",
        "mnist_ann_model.compile(\n",
        "              loss=\"sparse_categorical_crossentropy\",\n",
        "              optimizer=\"adam\",\n",
        "              metrics = ['accuracy']\n",
        "              )\n",
        "\n",
        "\n",
        "early_stopping_callback = tf.keras.callbacks.EarlyStopping(monitor='val_loss',\n",
        "                                                            patience=3,\n",
        "                                                            verbose=0,\n",
        "                                                            restore_best_weights=True\n",
        "                                                        )\n",
        "\n",
        "history = mnist_ann_model.fit(train_x_flatten,\n",
        "                            train_y,\n",
        "                            validation_data=(test_x_flatten,test_y),\n",
        "                            batch_size=128,\n",
        "                            epochs=30,\n",
        "                            callbacks=[early_stopping_callback])\n",
        "\n"
      ],
      "metadata": {
        "colab": {
          "base_uri": "https://localhost:8080/"
        },
        "id": "V2mQnnBAbyFc",
        "outputId": "554a9276-48ab-47fd-99c3-e017cb4670e3"
      },
      "execution_count": 14,
      "outputs": [
        {
          "output_type": "stream",
          "name": "stdout",
          "text": [
            "Epoch 1/30\n",
            "469/469 [==============================] - 3s 5ms/step - loss: 0.9106 - accuracy: 0.7201 - val_loss: 0.2453 - val_accuracy: 0.9395\n",
            "Epoch 2/30\n",
            "469/469 [==============================] - 2s 4ms/step - loss: 0.4393 - accuracy: 0.8732 - val_loss: 0.1487 - val_accuracy: 0.9588\n",
            "Epoch 3/30\n",
            "469/469 [==============================] - 2s 4ms/step - loss: 0.3335 - accuracy: 0.9050 - val_loss: 0.1468 - val_accuracy: 0.9598\n",
            "Epoch 4/30\n",
            "469/469 [==============================] - 2s 4ms/step - loss: 0.2832 - accuracy: 0.9207 - val_loss: 0.1268 - val_accuracy: 0.9643\n",
            "Epoch 5/30\n",
            "469/469 [==============================] - 2s 4ms/step - loss: 0.2493 - accuracy: 0.9298 - val_loss: 0.1315 - val_accuracy: 0.9648\n",
            "Epoch 6/30\n",
            "469/469 [==============================] - 2s 4ms/step - loss: 0.2315 - accuracy: 0.9355 - val_loss: 0.1058 - val_accuracy: 0.9729\n",
            "Epoch 7/30\n",
            "469/469 [==============================] - 2s 4ms/step - loss: 0.2109 - accuracy: 0.9402 - val_loss: 0.1110 - val_accuracy: 0.9733\n",
            "Epoch 8/30\n",
            "469/469 [==============================] - 2s 4ms/step - loss: 0.1960 - accuracy: 0.9426 - val_loss: 0.1046 - val_accuracy: 0.9740\n",
            "Epoch 9/30\n",
            "469/469 [==============================] - 2s 4ms/step - loss: 0.1839 - accuracy: 0.9480 - val_loss: 0.1172 - val_accuracy: 0.9723\n",
            "Epoch 10/30\n",
            "469/469 [==============================] - 2s 4ms/step - loss: 0.1699 - accuracy: 0.9513 - val_loss: 0.1140 - val_accuracy: 0.9697\n",
            "Epoch 11/30\n",
            "469/469 [==============================] - 2s 5ms/step - loss: 0.1635 - accuracy: 0.9528 - val_loss: 0.1114 - val_accuracy: 0.9739\n"
          ]
        }
      ]
    },
    {
      "cell_type": "code",
      "source": [
        "train_y_pred = mnist_ann_model.predict(train_x_flatten)\n",
        "test_y_pred = mnist_ann_model.predict(test_x_flatten)\n",
        "\n",
        "train_classification_report = classification_report(train_y,np.argmax(train_y_pred,axis=1))\n",
        "\n",
        "test_classification_report = classification_report(test_y,np.argmax(test_y_pred,axis=1))\n",
        "\n",
        "print(\"Train classification report : \\n\")\n",
        "print(train_classification_report)\n",
        "\n",
        "print(\"\\nTest classification report : \\n\")\n",
        "print(test_classification_report)\n",
        "\n",
        "plt.plot(history.history['accuracy'])\n",
        "plt.plot(history.history['val_accuracy'])\n",
        "plt.title('MNIST ANN model accuracy')\n",
        "plt.ylabel('accuracy')\n",
        "plt.xlabel('epoch')\n",
        "plt.legend(['train', 'val'], loc='upper left')\n",
        "plt.show()"
      ],
      "metadata": {
        "colab": {
          "base_uri": "https://localhost:8080/",
          "height": 1000
        },
        "id": "mdRunTjVyXqF",
        "outputId": "37326637-0587-4f93-edb2-afe4af57aabf"
      },
      "execution_count": 15,
      "outputs": [
        {
          "output_type": "stream",
          "name": "stdout",
          "text": [
            "1875/1875 [==============================] - 4s 2ms/step\n",
            "313/313 [==============================] - 0s 1ms/step\n",
            "Train classification report : \n",
            "\n",
            "              precision    recall  f1-score   support\n",
            "\n",
            "           0       0.99      0.99      0.99      5923\n",
            "           1       0.99      0.99      0.99      6742\n",
            "           2       0.99      0.99      0.99      5958\n",
            "           3       0.98      0.98      0.98      6131\n",
            "           4       0.99      0.99      0.99      5842\n",
            "           5       0.99      0.98      0.98      5421\n",
            "           6       0.99      0.99      0.99      5918\n",
            "           7       1.00      0.97      0.99      6265\n",
            "           8       0.97      0.99      0.98      5851\n",
            "           9       0.97      0.98      0.98      5949\n",
            "\n",
            "    accuracy                           0.99     60000\n",
            "   macro avg       0.99      0.99      0.99     60000\n",
            "weighted avg       0.99      0.99      0.99     60000\n",
            "\n",
            "\n",
            "Test classification report : \n",
            "\n",
            "              precision    recall  f1-score   support\n",
            "\n",
            "           0       0.98      0.99      0.99       980\n",
            "           1       0.98      0.99      0.98      1135\n",
            "           2       0.98      0.97      0.98      1032\n",
            "           3       0.96      0.98      0.97      1010\n",
            "           4       0.98      0.97      0.97       982\n",
            "           5       0.98      0.96      0.97       892\n",
            "           6       0.98      0.98      0.98       958\n",
            "           7       0.99      0.95      0.97      1028\n",
            "           8       0.94      0.98      0.96       974\n",
            "           9       0.96      0.96      0.96      1009\n",
            "\n",
            "    accuracy                           0.97     10000\n",
            "   macro avg       0.97      0.97      0.97     10000\n",
            "weighted avg       0.97      0.97      0.97     10000\n",
            "\n"
          ]
        },
        {
          "output_type": "display_data",
          "data": {
            "text/plain": [
              "<Figure size 432x288 with 1 Axes>"
            ],
            "image/png": "[encoded data removed]"
          },
          "metadata": {
            "needs_background": "light"
          }
        }
      ]
    },
    {
      "cell_type": "code",
      "source": [
        "# save model\n",
        "mnist_ann_model.save(os.path.join(model_save_folder,\"MNIST\"))"
      ],
      "metadata": {
        "id": "8zk3MKSTyZfG"
      },
      "execution_count": 16,
      "outputs": []
    },
    {
      "cell_type": "code",
      "source": [
        "!zip -r ANN_MNIST.zip ANN_MNIST"
      ],
      "metadata": {
        "colab": {
          "base_uri": "https://localhost:8080/"
        },
        "id": "pAYzpNzZsks-",
        "outputId": "22072949-c1fd-4a97-d3c5-c17b8edaa332"
      },
      "execution_count": 17,
      "outputs": [
        {
          "output_type": "stream",
          "name": "stdout",
          "text": [
            "  adding: ANN_MNIST/ (stored 0%)\n",
            "  adding: ANN_MNIST/MNIST/ (stored 0%)\n",
            "  adding: ANN_MNIST/MNIST/assets/ (stored 0%)\n",
            "  adding: ANN_MNIST/MNIST/keras_metadata.pb (deflated 91%)\n",
            "  adding: ANN_MNIST/MNIST/saved_model.pb (deflated 89%)\n",
            "  adding: ANN_MNIST/MNIST/variables/ (stored 0%)\n",
            "  adding: ANN_MNIST/MNIST/variables/variables.index (deflated 68%)\n",
            "  adding: ANN_MNIST/MNIST/variables/variables.data-00000-of-00001 (deflated 13%)\n"
          ]
        }
      ]
    },
    {
      "cell_type": "markdown",
      "source": [
        "### CNN"
      ],
      "metadata": {
        "id": "Q8CS0s9VcO3M"
      }
    },
    {
      "cell_type": "code",
      "source": [
        "train_x_cnn = train_x.reshape((train_x.shape[0], 28, 28,1))\n",
        "test_x_cnn = test_x.reshape((test_x.shape[0], 28, 28,1))"
      ],
      "metadata": {
        "id": "8vYtItNVzH3R"
      },
      "execution_count": null,
      "outputs": []
    },
    {
      "cell_type": "code",
      "source": [
        "model_save_folder = \"CNN_MNIST\"\n",
        "\n",
        "mnist_cnn_model = tf.keras.Sequential(\n",
        "                    [\n",
        "                        Conv2D(32, (3, 3), activation='relu', kernel_initializer='he_uniform', input_shape=(28, 28,1)),\n",
        "                        MaxPooling2D((2, 2)),\n",
        "                        Flatten(),\n",
        "                        BatchNormalization(),\n",
        "                        Dense(100, activation='relu', kernel_initializer='he_uniform'),\n",
        "                        Dropout(0.3),\n",
        "                        BatchNormalization(),\n",
        "                        Dense(10,activation='softmax')\n",
        "                    ])\n",
        "\n",
        "#Compiling the model\n",
        "mnist_cnn_model.compile(\n",
        "              loss=\"sparse_categorical_crossentropy\",\n",
        "              optimizer=\"adam\",\n",
        "              metrics = ['accuracy']\n",
        "              )\n",
        "\n",
        "\n",
        "early_stopping_callback = tf.keras.callbacks.EarlyStopping(monitor='val_loss',\n",
        "                                                            patience=3,\n",
        "                                                            verbose=0,\n",
        "                                                            restore_best_weights=True\n",
        "                                                        )\n",
        "\n",
        "history = mnist_cnn_model.fit(train_x_cnn,\n",
        "                            train_y,\n",
        "                            validation_data=(test_x_cnn,test_y),\n",
        "                            batch_size=128,\n",
        "                            epochs=30,\n",
        "                            callbacks=[early_stopping_callback])\n"
      ],
      "metadata": {
        "colab": {
          "base_uri": "https://localhost:8080/"
        },
        "id": "Drl8OsViwwZb",
        "outputId": "4414d837-b976-4207-8057-05f0f09bf4d9"
      },
      "execution_count": null,
      "outputs": [
        {
          "output_type": "stream",
          "name": "stdout",
          "text": [
            "Epoch 1/30\n",
            "469/469 [==============================] - 35s 71ms/step - loss: 0.1913 - accuracy: 0.9445 - val_loss: 0.0838 - val_accuracy: 0.9773\n",
            "Epoch 2/30\n",
            "469/469 [==============================] - 34s 72ms/step - loss: 0.0707 - accuracy: 0.9789 - val_loss: 0.0585 - val_accuracy: 0.9811\n",
            "Epoch 3/30\n",
            "469/469 [==============================] - 38s 81ms/step - loss: 0.0488 - accuracy: 0.9855 - val_loss: 0.0491 - val_accuracy: 0.9837\n",
            "Epoch 4/30\n",
            "469/469 [==============================] - 33s 69ms/step - loss: 0.0356 - accuracy: 0.9891 - val_loss: 0.0481 - val_accuracy: 0.9854\n",
            "Epoch 5/30\n",
            "469/469 [==============================] - 34s 73ms/step - loss: 0.0273 - accuracy: 0.9920 - val_loss: 0.0388 - val_accuracy: 0.9885\n",
            "Epoch 6/30\n",
            "469/469 [==============================] - 37s 80ms/step - loss: 0.0219 - accuracy: 0.9933 - val_loss: 0.0421 - val_accuracy: 0.9861\n",
            "Epoch 7/30\n",
            "469/469 [==============================] - 33s 70ms/step - loss: 0.0184 - accuracy: 0.9945 - val_loss: 0.0454 - val_accuracy: 0.9848\n",
            "Epoch 8/30\n",
            "469/469 [==============================] - 33s 70ms/step - loss: 0.0142 - accuracy: 0.9959 - val_loss: 0.0475 - val_accuracy: 0.9862\n"
          ]
        }
      ]
    },
    {
      "cell_type": "code",
      "source": [
        "train_y_pred = mnist_cnn_model.predict(train_x_cnn)\n",
        "test_y_pred = mnist_cnn_model.predict(test_x_cnn)\n",
        "\n",
        "train_classification_report = classification_report(train_y,np.argmax(train_y_pred,axis=1))\n",
        "\n",
        "test_classification_report = classification_report(test_y,np.argmax(test_y_pred,axis=1))\n",
        "\n",
        "print(\"Train classification report : \\n\")\n",
        "print(train_classification_report)\n",
        "\n",
        "print(\"\\nTest classification report : \\n\")\n",
        "print(test_classification_report)\n",
        "\n",
        "plt.plot(history.history['accuracy'])\n",
        "plt.plot(history.history['val_accuracy'])\n",
        "plt.title('MNIST CNN model accuracy')\n",
        "plt.ylabel('accuracy')\n",
        "plt.xlabel('epoch')\n",
        "plt.legend(['train', 'val'], loc='upper left')\n",
        "plt.show()"
      ],
      "metadata": {
        "colab": {
          "base_uri": "https://localhost:8080/",
          "height": 1000
        },
        "id": "LQTzwa8TycOJ",
        "outputId": "fd94b580-7e1d-43b3-a110-248d87eb5797"
      },
      "execution_count": null,
      "outputs": [
        {
          "output_type": "stream",
          "name": "stdout",
          "text": [
            "1875/1875 [==============================] - 20s 10ms/step\n",
            "313/313 [==============================] - 3s 9ms/step\n",
            "Train classification report : \n",
            "\n",
            "              precision    recall  f1-score   support\n",
            "\n",
            "           0       1.00      1.00      1.00      5923\n",
            "           1       1.00      1.00      1.00      6742\n",
            "           2       1.00      1.00      1.00      5958\n",
            "           3       1.00      1.00      1.00      6131\n",
            "           4       1.00      1.00      1.00      5842\n",
            "           5       1.00      1.00      1.00      5421\n",
            "           6       1.00      1.00      1.00      5918\n",
            "           7       1.00      1.00      1.00      6265\n",
            "           8       1.00      1.00      1.00      5851\n",
            "           9       1.00      1.00      1.00      5949\n",
            "\n",
            "    accuracy                           1.00     60000\n",
            "   macro avg       1.00      1.00      1.00     60000\n",
            "weighted avg       1.00      1.00      1.00     60000\n",
            "\n",
            "\n",
            "Test classification report : \n",
            "\n",
            "              precision    recall  f1-score   support\n",
            "\n",
            "           0       0.99      1.00      0.99       980\n",
            "           1       0.99      1.00      0.99      1135\n",
            "           2       0.99      0.98      0.99      1032\n",
            "           3       0.99      0.99      0.99      1010\n",
            "           4       0.99      0.99      0.99       982\n",
            "           5       0.99      0.99      0.99       892\n",
            "           6       0.99      0.99      0.99       958\n",
            "           7       0.99      0.98      0.98      1028\n",
            "           8       0.99      0.98      0.99       974\n",
            "           9       0.99      0.98      0.99      1009\n",
            "\n",
            "    accuracy                           0.99     10000\n",
            "   macro avg       0.99      0.99      0.99     10000\n",
            "weighted avg       0.99      0.99      0.99     10000\n",
            "\n"
          ]
        },
        {
          "output_type": "display_data",
          "data": {
            "text/plain": [
              "<Figure size 432x288 with 1 Axes>"
            ],
            "image/png": "[encoded data removed]"
          },
          "metadata": {
            "needs_background": "light"
          }
        }
      ]
    },
    {
      "cell_type": "code",
      "source": [
        "# save model\n",
        "# tf.saved_model.save(mnist_cnn_model,os.path.join(model_save_folder,\"MNIST\"))\n",
        "mnist_cnn_model.save(model_save_folder)"
      ],
      "metadata": {
        "colab": {
          "base_uri": "https://localhost:8080/"
        },
        "id": "tGKtcCuEyeJF",
        "outputId": "135c4228-4a3f-457a-ca37-24186f23db08"
      },
      "execution_count": null,
      "outputs": [
        {
          "output_type": "stream",
          "name": "stderr",
          "text": [
            "WARNING:absl:Found untraced functions such as _jit_compiled_convolution_op while saving (showing 1 of 1). These functions will not be directly callable after loading.\n"
          ]
        }
      ]
    },
    {
      "cell_type": "code",
      "source": [
        "!zip -r CNN_MNIST.zip CNN_MNIST"
      ],
      "metadata": {
        "colab": {
          "base_uri": "https://localhost:8080/"
        },
        "id": "63KJHU45AWsF",
        "outputId": "50dc2323-aa99-4ac5-dce2-8ccb5a75ba0c"
      },
      "execution_count": null,
      "outputs": [
        {
          "output_type": "stream",
          "name": "stdout",
          "text": [
            "updating: CNN_MNIST/ (stored 0%)\n",
            "  adding: CNN_MNIST/saved_model.pb (deflated 89%)\n",
            "  adding: CNN_MNIST/variables/ (stored 0%)\n",
            "  adding: CNN_MNIST/variables/variables.data-00000-of-00001 (deflated 8%)\n",
            "  adding: CNN_MNIST/variables/variables.index (deflated 66%)\n",
            "  adding: CNN_MNIST/keras_metadata.pb (deflated 90%)\n",
            "  adding: CNN_MNIST/assets/ (stored 0%)\n"
          ]
        }
      ]
    },
    {
      "cell_type": "code",
      "source": [
        "import cv2"
      ],
      "metadata": {
        "id": "wwU61ZSnEsRl"
      },
      "execution_count": null,
      "outputs": []
    },
    {
      "cell_type": "code",
      "source": [
        "def preprocess_for_recognize(img):\n",
        "    img = cv2.resize(img,(28,28))\n",
        "    cv2.imwrite(\"img.jpg\",img)\n",
        "    \n",
        "    img = img / 255.\n",
        "    \n",
        "    # cv2.imwrite(\"img1.jpg\",img*255)\n",
        "    \n",
        "    return img\n"
      ],
      "metadata": {
        "id": "2H1bAa6SE0oE"
      },
      "execution_count": null,
      "outputs": []
    },
    {
      "cell_type": "code",
      "source": [
        "# https://towardsdatascience.com/non-maxima-suppression-139f7e00f0b5\n",
        "def NMS(boxes, overlapThresh = 0.4):\n",
        "    #return an empty list, if no boxes given\n",
        "    if len(boxes) == 0:\n",
        "        return []\n",
        "    x1 = boxes[:, 0]  # x coordinate of the top-left corner\n",
        "    y1 = boxes[:, 1]  # y coordinate of the top-left corner\n",
        "    x2 = boxes[:, 2]  # x coordinate of the bottom-right corner\n",
        "    y2 = boxes[:, 3]  # y coordinate of the bottom-right corner\n",
        "    # compute the area of the bounding boxes and sort the bounding\n",
        "    # boxes by the bottom-right y-coordinate of the bounding box\n",
        "    areas = (x2 - x1 + 1) * (y2 - y1 + 1) # We have a least a box of one pixel, therefore the +1\n",
        "    indices = np.arange(len(x1))\n",
        "    for i,box in enumerate(boxes):\n",
        "        temp_indices = indices[indices!=i]\n",
        "        xx1 = np.maximum(box[0], boxes[temp_indices,0])\n",
        "        yy1 = np.maximum(box[1], boxes[temp_indices,1])\n",
        "        xx2 = np.minimum(box[2], boxes[temp_indices,2])\n",
        "        yy2 = np.minimum(box[3], boxes[temp_indices,3])\n",
        "        w = np.maximum(0, xx2 - xx1 + 1)\n",
        "        h = np.maximum(0, yy2 - yy1 + 1)\n",
        "        # compute the ratio of overlap\n",
        "        overlap = (w * h) / areas[temp_indices]\n",
        "        if np.any(overlap) > overlapThresh:\n",
        "            indices = indices[indices != i]\n",
        "    selected_boxes = boxes[indices].astype(int)\n",
        "\n",
        "    # add 10px margin on bounding box\n",
        "    selected_boxes[:,0] = selected_boxes[:,0] - 10\n",
        "    selected_boxes[:,1] = selected_boxes[:,1] - 10\n",
        "    selected_boxes[:,2] = selected_boxes[:,2] + 10\n",
        "    selected_boxes[:,3] = selected_boxes[:,3] + 10\n",
        "\n",
        "    return selected_boxes\n"
      ],
      "metadata": {
        "id": "YfQlqu1MAaBD"
      },
      "execution_count": null,
      "outputs": []
    },
    {
      "cell_type": "code",
      "source": [
        "def detect_digits(img_path):\n",
        "    # https://stackoverflow.com/a/57623749\n",
        "    mser = cv2.MSER_create()\n",
        "    img = cv2.imread(img_path)\n",
        "    gray = cv2.cvtColor(img, cv2.COLOR_BGR2GRAY)\n",
        "\n",
        "    regions, boundingBoxes = mser.detectRegions(gray)\n",
        "\n",
        "    boundingBoxes = np.array(boundingBoxes)\n",
        "    \n",
        "    # convert x,y,w,h -> x1,y1,x2,y2\n",
        "    boundingBoxes[:,2] = boundingBoxes[:,2] + boundingBoxes[:,0]\n",
        "    boundingBoxes[:,3] = boundingBoxes[:,3] + boundingBoxes[:,1]\n",
        "    \n",
        "    return NMS(boundingBoxes)\n",
        "    \n",
        " \n",
        "\n",
        "    "
      ],
      "metadata": {
        "id": "XPDoJD5TEjXD"
      },
      "execution_count": null,
      "outputs": []
    },
    {
      "cell_type": "code",
      "source": [
        "def recognize_digits(image_path):\n",
        "    \n",
        "    digits = []\n",
        "    \n",
        "    im_gray = cv2.imread(image_path,cv2.IMREAD_GRAYSCALE)\n",
        "    (thresh, im_bw) = cv2.threshold(im_gray, 128, 255, cv2.THRESH_BINARY | cv2.THRESH_OTSU)\n",
        "    thresh = 127\n",
        "    im_bw = cv2.threshold(im_gray, thresh, 255, cv2.THRESH_BINARY)[1]\n",
        "    # im_bw = im_gray\n",
        "    # print(\"im_bw : \",im_bw)\n",
        "    im_bw = cv2.bitwise_not(im_bw)\n",
        "\n",
        "    cv2.imwrite(\"Test.jpg\",im_bw)\n",
        "    \n",
        "    selected_bounding_boxes = detect_digits(image_path)\n",
        "    \n",
        "    for bounding_box in selected_bounding_boxes:\n",
        "        \n",
        "        x1,y1, x2,y2 = bounding_box\n",
        "        \n",
        "        crop_image = im_bw[y1:y2,x1:x2]\n",
        "        \n",
        "        cv2.imwrite(\"crop_image.jpg\",crop_image)\n",
        "        cv2.rectangle(im_gray,(x1,y1),(x2,y2),(255,0,0),1)\n",
        "        \n",
        "        processed_img = preprocess_for_recognize(crop_image)\n",
        "        cv2.imwrite(\"processed_img.jpg\",processed_img)\n",
        "        \n",
        "        \n",
        "        processed_img = np.expand_dims(processed_img,axis=-1)\n",
        "        processed_img = np.expand_dims(processed_img,axis=0)\n",
        "        \n",
        "        print(processed_img.shape)\n",
        "        \n",
        "        \n",
        "        prediction = mnist_cnn_model(processed_img)\n",
        "        # print(prediction[0])\n",
        "        digit = np.argmax(prediction[0])\n",
        "        \n",
        "        digits.append(digit)\n",
        "        \n",
        "        \n",
        "    cv2.imwrite(\"test_bb.jpg\",im_gray)\n",
        "        \n",
        "    return digits\n",
        "    \n",
        "    "
      ],
      "metadata": {
        "id": "f-ZSiZOLEk4K"
      },
      "execution_count": null,
      "outputs": []
    },
    {
      "cell_type": "code",
      "source": [
        "recognize_digits(\"/content/test_digit.jpg\")"
      ],
      "metadata": {
        "colab": {
          "base_uri": "https://localhost:8080/"
        },
        "id": "MufetvQtEl3Q",
        "outputId": "94303885-b7e0-4b98-83a7-e32bfc9ad389"
      },
      "execution_count": null,
      "outputs": [
        {
          "output_type": "stream",
          "name": "stdout",
          "text": [
            "(1, 28, 28, 1)\n",
            "(1, 28, 28, 1)\n",
            "(1, 28, 28, 1)\n",
            "(1, 28, 28, 1)\n",
            "(1, 28, 28, 1)\n"
          ]
        },
        {
          "output_type": "execute_result",
          "data": {
            "text/plain": [
              "[6, 5, 2, 6, 9]"
            ]
          },
          "metadata": {},
          "execution_count": 108
        }
      ]
    },
    {
      "cell_type": "code",
      "source": [
        "# "
      ],
      "metadata": {
        "id": "MkHEeCLdEwdW"
      },
      "execution_count": null,
      "outputs": []
    },
    {
      "cell_type": "code",
      "source": [],
      "metadata": {
        "id": "pIkGpIV2E8YX"
      },
      "execution_count": null,
      "outputs": []
    }
  ],
  "metadata": {
    "colab": {
      "provenance": []
    },
    "kernelspec": {
      "display_name": "Python 3",
      "name": "python3"
    },
    "language_info": {
      "name": "python"
    }
  },
  "nbformat": 4,
  "nbformat_minor": 0
}